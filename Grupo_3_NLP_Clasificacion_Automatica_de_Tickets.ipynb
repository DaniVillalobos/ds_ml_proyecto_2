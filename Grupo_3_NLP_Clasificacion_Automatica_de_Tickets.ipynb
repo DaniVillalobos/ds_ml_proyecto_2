{
  "cells": [
    {
      "attachments": {},
      "cell_type": "markdown",
      "metadata": {
        "id": "rhR-ZUkwJrFn"
      },
      "source": [
        "# **Clasificación Automática de Tickets con NLP**\n",
        "\n",
        "## **Integrantes**\n",
        "* Wilder Serdan (wserdan@gmail.com)\n",
        "* Oscar Ramirez (oscar.ramirez.guachalla@gmail.com)\n",
        "* Ruth Daniela Villalobos (ruthdanivillalobos@gmail.com)\n",
        "\n",
        "## **Descripción del Problema** \n",
        "\n",
        "Clasificar las quejas (complaints) de los clientes en función de los productos/servicios. Segregando estos tickets en sus categorías relevantes y, por lo tanto, ayudar en la resolución rápida del problema.\n",
        "\n",
        "Se realizará el modelado de temas en los datos <b>.json</b> proporcionados por la empresa. Dado que estos datos no están etiquetados, debe aplicar NMF para analizar patrones y clasificar los tickets en los siguientes cinco grupos según sus productos/servicios:\n",
        "\n",
        "* Tarjetas de Credito / Tarjetas Prepagadas (Credit card / Prepaid Card)\n",
        "\n",
        "* Servicios de Cuentas de Banco (Bank account services)\n",
        "\n",
        "* Reportes de Robos (Theft/Dispute reporting)\n",
        "\n",
        "* Prestamos Hipotecarios y Otros Prestamos (Mortgages/loans)\n",
        "\n",
        "* Otros\n",
        "\n",
        "Con la ayuda del modelado de temas, se asignará cada ticket a su respectivo departamento/categoría. Luego se usarán estos datos para entrenar cualquier modelo supervisado, como regresión logística, árbol de decisión o bosque aleatorio. Usando este modelo entrenado, se clasificará cualquier nuevo ticket de soporte de quejas de clientes en su departamento correspondiente."
      ]
    },
    {
      "cell_type": "markdown",
      "metadata": {
        "id": "mcgXVNyaLUFS"
      },
      "source": [
        "## **Flujo de Trabajo**\n",
        "1. Setup e Importación de Librerias\n",
        "2. Cargado de datos\n",
        "3. Procesamiento de texto\n",
        "4. Análisis Exploratorio de Datos (EDA)\n",
        "5. Extracción de características\n",
        "6. Topic modeling usando NMF\n",
        "7. Modelo supervisado para predecir cualquier queja nueva a los temas relevantes\n",
        "8. Training, evaluación e inferencia de modelos\n",
        "9. Conclusiones"
      ]
    },
    {
      "cell_type": "markdown",
      "metadata": {
        "id": "KtCqOTiI-hs2"
      },
      "source": [
        "# **1. Setup e Importación de Librerías**"
      ]
    },
    {
      "cell_type": "code",
      "execution_count": 1,
      "metadata": {
        "colab": {
          "base_uri": "https://localhost:8080/"
        },
        "id": "IXbMHrne-hs3",
        "outputId": "c8a18d49-70d4-480f-bf92-9b45195eb12c"
      },
      "outputs": [
        {
          "name": "stdout",
          "output_type": "stream",
          "text": [
            "Collecting spacy\n",
            "  Downloading spacy-3.5.0-cp39-cp39-win_amd64.whl (12.2 MB)\n",
            "Collecting thinc<8.2.0,>=8.1.0\n",
            "  Downloading thinc-8.1.7-cp39-cp39-win_amd64.whl (1.3 MB)\n",
            "Requirement already satisfied: jinja2 in c:\\users\\dani villalobos\\anaconda3\\lib\\site-packages (from spacy) (2.11.3)\n",
            "Requirement already satisfied: packaging>=20.0 in c:\\users\\dani villalobos\\anaconda3\\lib\\site-packages (from spacy) (21.3)\n",
            "Collecting pathy>=0.10.0\n",
            "  Downloading pathy-0.10.1-py3-none-any.whl (48 kB)\n",
            "Collecting cymem<2.1.0,>=2.0.2\n",
            "  Downloading cymem-2.0.7-cp39-cp39-win_amd64.whl (30 kB)\n",
            "Collecting murmurhash<1.1.0,>=0.28.0\n",
            "  Downloading murmurhash-1.0.9-cp39-cp39-win_amd64.whl (18 kB)\n",
            "Requirement already satisfied: requests<3.0.0,>=2.13.0 in c:\\users\\dani villalobos\\anaconda3\\lib\\site-packages (from spacy) (2.27.1)\n",
            "Requirement already satisfied: numpy>=1.15.0 in c:\\users\\dani villalobos\\anaconda3\\lib\\site-packages (from spacy) (1.21.5)\n",
            "Collecting smart-open<7.0.0,>=5.2.1\n",
            "  Downloading smart_open-6.3.0-py3-none-any.whl (56 kB)\n",
            "Collecting preshed<3.1.0,>=3.0.2\n",
            "  Downloading preshed-3.0.8-cp39-cp39-win_amd64.whl (96 kB)\n",
            "Collecting wasabi<1.2.0,>=0.9.1\n",
            "  Downloading wasabi-1.1.1-py3-none-any.whl (27 kB)\n",
            "Collecting catalogue<2.1.0,>=2.0.6\n",
            "  Downloading catalogue-2.0.8-py3-none-any.whl (17 kB)\n",
            "Collecting srsly<3.0.0,>=2.4.3\n",
            "  Downloading srsly-2.4.5-cp39-cp39-win_amd64.whl (481 kB)\n",
            "Collecting typer<0.8.0,>=0.3.0\n",
            "  Downloading typer-0.7.0-py3-none-any.whl (38 kB)\n",
            "Collecting spacy-legacy<3.1.0,>=3.0.11\n",
            "  Downloading spacy_legacy-3.0.12-py2.py3-none-any.whl (29 kB)\n",
            "Requirement already satisfied: tqdm<5.0.0,>=4.38.0 in c:\\users\\dani villalobos\\anaconda3\\lib\\site-packages (from spacy) (4.64.0)\n",
            "Collecting pydantic!=1.8,!=1.8.1,<1.11.0,>=1.7.4\n",
            "  Downloading pydantic-1.10.5-cp39-cp39-win_amd64.whl (2.2 MB)\n",
            "Collecting langcodes<4.0.0,>=3.2.0\n",
            "  Downloading langcodes-3.3.0-py3-none-any.whl (181 kB)\n",
            "Requirement already satisfied: setuptools in c:\\users\\dani villalobos\\anaconda3\\lib\\site-packages (from spacy) (61.2.0)\n",
            "Collecting spacy-loggers<2.0.0,>=1.0.0\n",
            "  Downloading spacy_loggers-1.0.4-py3-none-any.whl (11 kB)\n",
            "Requirement already satisfied: pyparsing!=3.0.5,>=2.0.2 in c:\\users\\dani villalobos\\anaconda3\\lib\\site-packages (from packaging>=20.0->spacy) (3.0.4)\n",
            "Collecting typing-extensions>=4.2.0\n",
            "  Downloading typing_extensions-4.5.0-py3-none-any.whl (27 kB)\n",
            "Requirement already satisfied: charset-normalizer~=2.0.0 in c:\\users\\dani villalobos\\anaconda3\\lib\\site-packages (from requests<3.0.0,>=2.13.0->spacy) (2.0.4)\n",
            "Requirement already satisfied: idna<4,>=2.5 in c:\\users\\dani villalobos\\anaconda3\\lib\\site-packages (from requests<3.0.0,>=2.13.0->spacy) (3.3)\n",
            "Requirement already satisfied: certifi>=2017.4.17 in c:\\users\\dani villalobos\\anaconda3\\lib\\site-packages (from requests<3.0.0,>=2.13.0->spacy) (2021.10.8)\n",
            "Requirement already satisfied: urllib3<1.27,>=1.21.1 in c:\\users\\dani villalobos\\anaconda3\\lib\\site-packages (from requests<3.0.0,>=2.13.0->spacy) (1.26.9)\n",
            "Collecting blis<0.8.0,>=0.7.8\n",
            "  Downloading blis-0.7.9-cp39-cp39-win_amd64.whl (7.0 MB)\n",
            "Collecting confection<1.0.0,>=0.0.1\n",
            "  Downloading confection-0.0.4-py3-none-any.whl (32 kB)\n",
            "Requirement already satisfied: colorama in c:\\users\\dani villalobos\\anaconda3\\lib\\site-packages (from tqdm<5.0.0,>=4.38.0->spacy) (0.4.4)\n",
            "Requirement already satisfied: click<9.0.0,>=7.1.1 in c:\\users\\dani villalobos\\anaconda3\\lib\\site-packages (from typer<0.8.0,>=0.3.0->spacy) (8.0.4)\n",
            "Collecting colorama\n",
            "  Downloading colorama-0.4.6-py2.py3-none-any.whl (25 kB)\n",
            "Requirement already satisfied: MarkupSafe>=0.23 in c:\\users\\dani villalobos\\anaconda3\\lib\\site-packages (from jinja2->spacy) (2.0.1)\n",
            "Installing collected packages: typing-extensions, colorama, catalogue, srsly, pydantic, murmurhash, cymem, wasabi, typer, smart-open, preshed, confection, blis, thinc, spacy-loggers, spacy-legacy, pathy, langcodes, spacy\n",
            "  Attempting uninstall: typing-extensions\n",
            "    Found existing installation: typing-extensions 4.1.1\n",
            "    Uninstalling typing-extensions-4.1.1:\n",
            "      Successfully uninstalled typing-extensions-4.1.1\n",
            "  Attempting uninstall: colorama\n",
            "    Found existing installation: colorama 0.4.4\n",
            "    Uninstalling colorama-0.4.4:\n",
            "      Successfully uninstalled colorama-0.4.4\n",
            "  Attempting uninstall: smart-open\n",
            "    Found existing installation: smart-open 5.1.0\n",
            "    Uninstalling smart-open-5.1.0:\n",
            "      Successfully uninstalled smart-open-5.1.0\n",
            "Successfully installed blis-0.7.9 catalogue-2.0.8 colorama-0.4.6 confection-0.0.4 cymem-2.0.7 langcodes-3.3.0 murmurhash-1.0.9 pathy-0.10.1 preshed-3.0.8 pydantic-1.10.5 smart-open-6.3.0 spacy-3.5.0 spacy-legacy-3.0.12 spacy-loggers-1.0.4 srsly-2.4.5 thinc-8.1.7 typer-0.7.0 typing-extensions-4.5.0 wasabi-1.1.1\n",
            "Collecting en-core-web-sm==3.5.0\n",
            "  Downloading https://github.com/explosion/spacy-models/releases/download/en_core_web_sm-3.5.0/en_core_web_sm-3.5.0-py3-none-any.whl (12.8 MB)\n",
            "Requirement already satisfied: spacy<3.6.0,>=3.5.0 in c:\\users\\dani villalobos\\anaconda3\\lib\\site-packages (from en-core-web-sm==3.5.0) (3.5.0)\n",
            "Requirement already satisfied: murmurhash<1.1.0,>=0.28.0 in c:\\users\\dani villalobos\\anaconda3\\lib\\site-packages (from spacy<3.6.0,>=3.5.0->en-core-web-sm==3.5.0) (1.0.9)\n",
            "Requirement already satisfied: pydantic!=1.8,!=1.8.1,<1.11.0,>=1.7.4 in c:\\users\\dani villalobos\\anaconda3\\lib\\site-packages (from spacy<3.6.0,>=3.5.0->en-core-web-sm==3.5.0) (1.10.5)\n",
            "Requirement already satisfied: jinja2 in c:\\users\\dani villalobos\\anaconda3\\lib\\site-packages (from spacy<3.6.0,>=3.5.0->en-core-web-sm==3.5.0) (2.11.3)\n",
            "Requirement already satisfied: setuptools in c:\\users\\dani villalobos\\anaconda3\\lib\\site-packages (from spacy<3.6.0,>=3.5.0->en-core-web-sm==3.5.0) (61.2.0)\n",
            "Requirement already satisfied: requests<3.0.0,>=2.13.0 in c:\\users\\dani villalobos\\anaconda3\\lib\\site-packages (from spacy<3.6.0,>=3.5.0->en-core-web-sm==3.5.0) (2.27.1)\n",
            "Requirement already satisfied: packaging>=20.0 in c:\\users\\dani villalobos\\anaconda3\\lib\\site-packages (from spacy<3.6.0,>=3.5.0->en-core-web-sm==3.5.0) (21.3)\n",
            "Requirement already satisfied: srsly<3.0.0,>=2.4.3 in c:\\users\\dani villalobos\\anaconda3\\lib\\site-packages (from spacy<3.6.0,>=3.5.0->en-core-web-sm==3.5.0) (2.4.5)\n",
            "Requirement already satisfied: cymem<2.1.0,>=2.0.2 in c:\\users\\dani villalobos\\anaconda3\\lib\\site-packages (from spacy<3.6.0,>=3.5.0->en-core-web-sm==3.5.0) (2.0.7)\n",
            "Requirement already satisfied: numpy>=1.15.0 in c:\\users\\dani villalobos\\anaconda3\\lib\\site-packages (from spacy<3.6.0,>=3.5.0->en-core-web-sm==3.5.0) (1.21.5)\n",
            "Requirement already satisfied: preshed<3.1.0,>=3.0.2 in c:\\users\\dani villalobos\\anaconda3\\lib\\site-packages (from spacy<3.6.0,>=3.5.0->en-core-web-sm==3.5.0) (3.0.8)\n",
            "Requirement already satisfied: thinc<8.2.0,>=8.1.0 in c:\\users\\dani villalobos\\anaconda3\\lib\\site-packages (from spacy<3.6.0,>=3.5.0->en-core-web-sm==3.5.0) (8.1.7)\n",
            "Requirement already satisfied: langcodes<4.0.0,>=3.2.0 in c:\\users\\dani villalobos\\anaconda3\\lib\\site-packages (from spacy<3.6.0,>=3.5.0->en-core-web-sm==3.5.0) (3.3.0)\n",
            "Requirement already satisfied: typer<0.8.0,>=0.3.0 in c:\\users\\dani villalobos\\anaconda3\\lib\\site-packages (from spacy<3.6.0,>=3.5.0->en-core-web-sm==3.5.0) (0.7.0)\n",
            "Requirement already satisfied: spacy-legacy<3.1.0,>=3.0.11 in c:\\users\\dani villalobos\\anaconda3\\lib\\site-packages (from spacy<3.6.0,>=3.5.0->en-core-web-sm==3.5.0) (3.0.12)\n",
            "Requirement already satisfied: pathy>=0.10.0 in c:\\users\\dani villalobos\\anaconda3\\lib\\site-packages (from spacy<3.6.0,>=3.5.0->en-core-web-sm==3.5.0) (0.10.1)\n",
            "Requirement already satisfied: smart-open<7.0.0,>=5.2.1 in c:\\users\\dani villalobos\\anaconda3\\lib\\site-packages (from spacy<3.6.0,>=3.5.0->en-core-web-sm==3.5.0) (6.3.0)\n",
            "Requirement already satisfied: spacy-loggers<2.0.0,>=1.0.0 in c:\\users\\dani villalobos\\anaconda3\\lib\\site-packages (from spacy<3.6.0,>=3.5.0->en-core-web-sm==3.5.0) (1.0.4)\n",
            "Requirement already satisfied: wasabi<1.2.0,>=0.9.1 in c:\\users\\dani villalobos\\anaconda3\\lib\\site-packages (from spacy<3.6.0,>=3.5.0->en-core-web-sm==3.5.0) (1.1.1)\n",
            "Requirement already satisfied: catalogue<2.1.0,>=2.0.6 in c:\\users\\dani villalobos\\anaconda3\\lib\\site-packages (from spacy<3.6.0,>=3.5.0->en-core-web-sm==3.5.0) (2.0.8)\n",
            "Requirement already satisfied: tqdm<5.0.0,>=4.38.0 in c:\\users\\dani villalobos\\anaconda3\\lib\\site-packages (from spacy<3.6.0,>=3.5.0->en-core-web-sm==3.5.0) (4.64.0)\n",
            "Requirement already satisfied: pyparsing!=3.0.5,>=2.0.2 in c:\\users\\dani villalobos\\anaconda3\\lib\\site-packages (from packaging>=20.0->spacy<3.6.0,>=3.5.0->en-core-web-sm==3.5.0) (3.0.4)\n",
            "Requirement already satisfied: typing-extensions>=4.2.0 in c:\\users\\dani villalobos\\anaconda3\\lib\\site-packages (from pydantic!=1.8,!=1.8.1,<1.11.0,>=1.7.4->spacy<3.6.0,>=3.5.0->en-core-web-sm==3.5.0) (4.5.0)\n",
            "Requirement already satisfied: urllib3<1.27,>=1.21.1 in c:\\users\\dani villalobos\\anaconda3\\lib\\site-packages (from requests<3.0.0,>=2.13.0->spacy<3.6.0,>=3.5.0->en-core-web-sm==3.5.0) (1.26.9)\n",
            "Requirement already satisfied: idna<4,>=2.5 in c:\\users\\dani villalobos\\anaconda3\\lib\\site-packages (from requests<3.0.0,>=2.13.0->spacy<3.6.0,>=3.5.0->en-core-web-sm==3.5.0) (3.3)\n",
            "Requirement already satisfied: charset-normalizer~=2.0.0 in c:\\users\\dani villalobos\\anaconda3\\lib\\site-packages (from requests<3.0.0,>=2.13.0->spacy<3.6.0,>=3.5.0->en-core-web-sm==3.5.0) (2.0.4)\n",
            "Requirement already satisfied: certifi>=2017.4.17 in c:\\users\\dani villalobos\\anaconda3\\lib\\site-packages (from requests<3.0.0,>=2.13.0->spacy<3.6.0,>=3.5.0->en-core-web-sm==3.5.0) (2021.10.8)\n",
            "Requirement already satisfied: blis<0.8.0,>=0.7.8 in c:\\users\\dani villalobos\\anaconda3\\lib\\site-packages (from thinc<8.2.0,>=8.1.0->spacy<3.6.0,>=3.5.0->en-core-web-sm==3.5.0) (0.7.9)\n",
            "Requirement already satisfied: confection<1.0.0,>=0.0.1 in c:\\users\\dani villalobos\\anaconda3\\lib\\site-packages (from thinc<8.2.0,>=8.1.0->spacy<3.6.0,>=3.5.0->en-core-web-sm==3.5.0) (0.0.4)\n",
            "Requirement already satisfied: colorama in c:\\users\\dani villalobos\\anaconda3\\lib\\site-packages (from tqdm<5.0.0,>=4.38.0->spacy<3.6.0,>=3.5.0->en-core-web-sm==3.5.0) (0.4.6)\n",
            "Requirement already satisfied: click<9.0.0,>=7.1.1 in c:\\users\\dani villalobos\\anaconda3\\lib\\site-packages (from typer<0.8.0,>=0.3.0->spacy<3.6.0,>=3.5.0->en-core-web-sm==3.5.0) (8.0.4)\n",
            "Requirement already satisfied: MarkupSafe>=0.23 in c:\\users\\dani villalobos\\anaconda3\\lib\\site-packages (from jinja2->spacy<3.6.0,>=3.5.0->en-core-web-sm==3.5.0) (2.0.1)\n",
            "Installing collected packages: en-core-web-sm\n",
            "Successfully installed en-core-web-sm-3.5.0\n",
            "\u001b[38;5;2m✔ Download and installation successful\u001b[0m\n",
            "You can now load the package via spacy.load('en_core_web_sm')\n",
            "Collecting textblob\n",
            "  Downloading textblob-0.17.1-py2.py3-none-any.whl (636 kB)\n",
            "Requirement already satisfied: nltk>=3.1 in c:\\users\\dani villalobos\\anaconda3\\lib\\site-packages (from textblob) (3.7)\n",
            "Requirement already satisfied: regex>=2021.8.3 in c:\\users\\dani villalobos\\anaconda3\\lib\\site-packages (from nltk>=3.1->textblob) (2022.3.15)\n",
            "Requirement already satisfied: tqdm in c:\\users\\dani villalobos\\anaconda3\\lib\\site-packages (from nltk>=3.1->textblob) (4.64.0)\n",
            "Requirement already satisfied: click in c:\\users\\dani villalobos\\anaconda3\\lib\\site-packages (from nltk>=3.1->textblob) (8.0.4)\n",
            "Requirement already satisfied: joblib in c:\\users\\dani villalobos\\anaconda3\\lib\\site-packages (from nltk>=3.1->textblob) (1.1.0)\n",
            "Requirement already satisfied: colorama in c:\\users\\dani villalobos\\anaconda3\\lib\\site-packages (from click->nltk>=3.1->textblob) (0.4.6)\n",
            "Installing collected packages: textblob\n",
            "Successfully installed textblob-0.17.1\n"
          ]
        }
      ],
      "source": [
        "## Instalación de SpaCy and en_core_web_sm\n",
        "!pip install spacy\n",
        "!python -m spacy download en_core_web_sm\n",
        "!pip install textblob"
      ]
    },
    {
      "cell_type": "code",
      "execution_count": 2,
      "metadata": {
        "id": "O-Q9pqrcJrFr"
      },
      "outputs": [],
      "source": [
        "import json\n",
        "import numpy as np\n",
        "import pandas as pd\n",
        "import re, string\n",
        "\n",
        "# Importar librerias NLTK\n",
        "import nltk\n",
        "from nltk.tokenize import word_tokenize\n",
        "from nltk.corpus import stopwords\n",
        "from nltk.stem import WordNetLemmatizer\n",
        "\n",
        "# Importar librerias Spacy\n",
        "import spacy\n",
        "import en_core_web_sm\n",
        "nlp = en_core_web_sm.load()\n",
        "\n",
        "import seaborn as sns\n",
        "import matplotlib.pyplot as plt\n",
        "%matplotlib inline\n",
        "\n",
        "from plotly.offline import plot\n",
        "import plotly.graph_objects as go\n",
        "import plotly.express as px\n",
        "\n",
        "from sklearn.feature_extraction.text import CountVectorizer, TfidfVectorizer, TfidfTransformer\n",
        "from pprint import pprint\n",
        "from textblob import TextBlob\n",
        "\n",
        "# Borrado de Warnings \n",
        "import warnings\n",
        "warnings.filterwarnings('ignore')"
      ]
    },
    {
      "cell_type": "code",
      "execution_count": 3,
      "metadata": {
        "colab": {
          "base_uri": "https://localhost:8080/"
        },
        "id": "fiAni8DI-hs6",
        "outputId": "333cccb1-f02d-4c70-fd43-2d984e8f3467"
      },
      "outputs": [
        {
          "name": "stderr",
          "output_type": "stream",
          "text": [
            "[nltk_data] Downloading package stopwords to C:\\Users\\Dani\n",
            "[nltk_data]     Villalobos\\AppData\\Roaming\\nltk_data...\n",
            "[nltk_data]   Unzipping corpora\\stopwords.zip.\n",
            "[nltk_data] Downloading package punkt to C:\\Users\\Dani\n",
            "[nltk_data]     Villalobos\\AppData\\Roaming\\nltk_data...\n",
            "[nltk_data]   Unzipping tokenizers\\punkt.zip.\n",
            "[nltk_data] Downloading package wordnet to C:\\Users\\Dani\n",
            "[nltk_data]     Villalobos\\AppData\\Roaming\\nltk_data...\n",
            "[nltk_data] Downloading package omw-1.4 to C:\\Users\\Dani\n",
            "[nltk_data]     Villalobos\\AppData\\Roaming\\nltk_data...\n"
          ]
        },
        {
          "data": {
            "text/plain": [
              "True"
            ]
          },
          "execution_count": 3,
          "metadata": {},
          "output_type": "execute_result"
        }
      ],
      "source": [
        "# Descargar Recursos NLTK\n",
        "nltk.download('stopwords')\n",
        "nltk.download('punkt')\n",
        "nltk.download('wordnet')\n",
        "nltk.download('omw-1.4')"
      ]
    },
    {
      "cell_type": "markdown",
      "metadata": {
        "id": "KtRLCsNVJrFt"
      },
      "source": [
        "# **2. Cargado de Datos**\n",
        "\n",
        "De JSON a un dataframe."
      ]
    },
    {
      "cell_type": "code",
      "execution_count": 4,
      "metadata": {
        "id": "puVzIf_iJrFt"
      },
      "outputs": [],
      "source": [
        "# Opening JSON file \n",
        "f = open(\"complaints.json\") # Write the path to your data file and load it \n",
        "  \n",
        "# returns JSON object as  \n",
        "# a dictionary \n",
        "data = json.load(f)\n",
        "df=pd.json_normalize(data)"
      ]
    },
    {
      "cell_type": "markdown",
      "metadata": {
        "id": "_xYpH-sAJrFu"
      },
      "source": [
        "## Preparación de los Datos"
      ]
    },
    {
      "cell_type": "code",
      "execution_count": 5,
      "metadata": {
        "colab": {
          "base_uri": "https://localhost:8080/",
          "height": 341
        },
        "id": "Lf8ufHH5JrFu",
        "outputId": "84a70a65-c1f8-4205-e448-290c15ab8ddc"
      },
      "outputs": [
        {
          "data": {
            "text/html": [
              "<div>\n",
              "<style scoped>\n",
              "    .dataframe tbody tr th:only-of-type {\n",
              "        vertical-align: middle;\n",
              "    }\n",
              "\n",
              "    .dataframe tbody tr th {\n",
              "        vertical-align: top;\n",
              "    }\n",
              "\n",
              "    .dataframe thead th {\n",
              "        text-align: right;\n",
              "    }\n",
              "</style>\n",
              "<table border=\"1\" class=\"dataframe\">\n",
              "  <thead>\n",
              "    <tr style=\"text-align: right;\">\n",
              "      <th></th>\n",
              "      <th>_index</th>\n",
              "      <th>_type</th>\n",
              "      <th>_id</th>\n",
              "      <th>_score</th>\n",
              "      <th>_source.tags</th>\n",
              "      <th>_source.zip_code</th>\n",
              "      <th>_source.complaint_id</th>\n",
              "      <th>_source.issue</th>\n",
              "      <th>_source.date_received</th>\n",
              "      <th>_source.state</th>\n",
              "      <th>...</th>\n",
              "      <th>_source.company_response</th>\n",
              "      <th>_source.company</th>\n",
              "      <th>_source.submitted_via</th>\n",
              "      <th>_source.date_sent_to_company</th>\n",
              "      <th>_source.company_public_response</th>\n",
              "      <th>_source.sub_product</th>\n",
              "      <th>_source.timely</th>\n",
              "      <th>_source.complaint_what_happened</th>\n",
              "      <th>_source.sub_issue</th>\n",
              "      <th>_source.consumer_consent_provided</th>\n",
              "    </tr>\n",
              "  </thead>\n",
              "  <tbody>\n",
              "    <tr>\n",
              "      <th>0</th>\n",
              "      <td>complaint-public-v2</td>\n",
              "      <td>complaint</td>\n",
              "      <td>3211475</td>\n",
              "      <td>0.0</td>\n",
              "      <td>None</td>\n",
              "      <td>90301</td>\n",
              "      <td>3211475</td>\n",
              "      <td>Attempts to collect debt not owed</td>\n",
              "      <td>2019-04-13T12:00:00-05:00</td>\n",
              "      <td>CA</td>\n",
              "      <td>...</td>\n",
              "      <td>Closed with explanation</td>\n",
              "      <td>JPMORGAN CHASE &amp; CO.</td>\n",
              "      <td>Web</td>\n",
              "      <td>2019-04-13T12:00:00-05:00</td>\n",
              "      <td>None</td>\n",
              "      <td>Credit card debt</td>\n",
              "      <td>Yes</td>\n",
              "      <td></td>\n",
              "      <td>Debt is not yours</td>\n",
              "      <td>Consent not provided</td>\n",
              "    </tr>\n",
              "    <tr>\n",
              "      <th>1</th>\n",
              "      <td>complaint-public-v2</td>\n",
              "      <td>complaint</td>\n",
              "      <td>3229299</td>\n",
              "      <td>0.0</td>\n",
              "      <td>Servicemember</td>\n",
              "      <td>319XX</td>\n",
              "      <td>3229299</td>\n",
              "      <td>Written notification about debt</td>\n",
              "      <td>2019-05-01T12:00:00-05:00</td>\n",
              "      <td>GA</td>\n",
              "      <td>...</td>\n",
              "      <td>Closed with explanation</td>\n",
              "      <td>JPMORGAN CHASE &amp; CO.</td>\n",
              "      <td>Web</td>\n",
              "      <td>2019-05-01T12:00:00-05:00</td>\n",
              "      <td>None</td>\n",
              "      <td>Credit card debt</td>\n",
              "      <td>Yes</td>\n",
              "      <td>Good morning my name is XXXX XXXX and I apprec...</td>\n",
              "      <td>Didn't receive enough information to verify debt</td>\n",
              "      <td>Consent provided</td>\n",
              "    </tr>\n",
              "    <tr>\n",
              "      <th>2</th>\n",
              "      <td>complaint-public-v2</td>\n",
              "      <td>complaint</td>\n",
              "      <td>3199379</td>\n",
              "      <td>0.0</td>\n",
              "      <td>None</td>\n",
              "      <td>77069</td>\n",
              "      <td>3199379</td>\n",
              "      <td>Other features, terms, or problems</td>\n",
              "      <td>2019-04-02T12:00:00-05:00</td>\n",
              "      <td>TX</td>\n",
              "      <td>...</td>\n",
              "      <td>Closed with explanation</td>\n",
              "      <td>JPMORGAN CHASE &amp; CO.</td>\n",
              "      <td>Web</td>\n",
              "      <td>2019-04-02T12:00:00-05:00</td>\n",
              "      <td>None</td>\n",
              "      <td>General-purpose credit card or charge card</td>\n",
              "      <td>Yes</td>\n",
              "      <td>I upgraded my XXXX XXXX card in XX/XX/2018 and...</td>\n",
              "      <td>Problem with rewards from credit card</td>\n",
              "      <td>Consent provided</td>\n",
              "    </tr>\n",
              "  </tbody>\n",
              "</table>\n",
              "<p>3 rows × 22 columns</p>\n",
              "</div>"
            ],
            "text/plain": [
              "                _index      _type      _id  _score   _source.tags  \\\n",
              "0  complaint-public-v2  complaint  3211475     0.0           None   \n",
              "1  complaint-public-v2  complaint  3229299     0.0  Servicemember   \n",
              "2  complaint-public-v2  complaint  3199379     0.0           None   \n",
              "\n",
              "  _source.zip_code _source.complaint_id                       _source.issue  \\\n",
              "0            90301              3211475   Attempts to collect debt not owed   \n",
              "1            319XX              3229299     Written notification about debt   \n",
              "2            77069              3199379  Other features, terms, or problems   \n",
              "\n",
              "       _source.date_received _source.state  ... _source.company_response  \\\n",
              "0  2019-04-13T12:00:00-05:00            CA  ...  Closed with explanation   \n",
              "1  2019-05-01T12:00:00-05:00            GA  ...  Closed with explanation   \n",
              "2  2019-04-02T12:00:00-05:00            TX  ...  Closed with explanation   \n",
              "\n",
              "        _source.company _source.submitted_via _source.date_sent_to_company  \\\n",
              "0  JPMORGAN CHASE & CO.                   Web    2019-04-13T12:00:00-05:00   \n",
              "1  JPMORGAN CHASE & CO.                   Web    2019-05-01T12:00:00-05:00   \n",
              "2  JPMORGAN CHASE & CO.                   Web    2019-04-02T12:00:00-05:00   \n",
              "\n",
              "  _source.company_public_response                         _source.sub_product  \\\n",
              "0                            None                            Credit card debt   \n",
              "1                            None                            Credit card debt   \n",
              "2                            None  General-purpose credit card or charge card   \n",
              "\n",
              "  _source.timely                    _source.complaint_what_happened  \\\n",
              "0            Yes                                                      \n",
              "1            Yes  Good morning my name is XXXX XXXX and I apprec...   \n",
              "2            Yes  I upgraded my XXXX XXXX card in XX/XX/2018 and...   \n",
              "\n",
              "                                  _source.sub_issue  \\\n",
              "0                                 Debt is not yours   \n",
              "1  Didn't receive enough information to verify debt   \n",
              "2             Problem with rewards from credit card   \n",
              "\n",
              "  _source.consumer_consent_provided  \n",
              "0              Consent not provided  \n",
              "1                  Consent provided  \n",
              "2                  Consent provided  \n",
              "\n",
              "[3 rows x 22 columns]"
            ]
          },
          "execution_count": 5,
          "metadata": {},
          "output_type": "execute_result"
        }
      ],
      "source": [
        "# Estudiando el Dataframe para entender los datos\n",
        "df.head(3)"
      ]
    },
    {
      "cell_type": "code",
      "execution_count": 6,
      "metadata": {
        "colab": {
          "base_uri": "https://localhost:8080/"
        },
        "id": "Dwcty-wmJrFw",
        "outputId": "40b56073-1aa8-4302-827b-a71ef903a818"
      },
      "outputs": [
        {
          "name": "stdout",
          "output_type": "stream",
          "text": [
            "Index(['_index', '_type', '_id', '_score', '_source.tags', '_source.zip_code',\n",
            "       '_source.complaint_id', '_source.issue', '_source.date_received',\n",
            "       '_source.state', '_source.consumer_disputed', '_source.product',\n",
            "       '_source.company_response', '_source.company', '_source.submitted_via',\n",
            "       '_source.date_sent_to_company', '_source.company_public_response',\n",
            "       '_source.sub_product', '_source.timely',\n",
            "       '_source.complaint_what_happened', '_source.sub_issue',\n",
            "       '_source.consumer_consent_provided'],\n",
            "      dtype='object')\n"
          ]
        }
      ],
      "source": [
        "#Nombres de columnas\n",
        "print(df.columns)"
      ]
    },
    {
      "cell_type": "code",
      "execution_count": 7,
      "metadata": {
        "colab": {
          "base_uri": "https://localhost:8080/",
          "height": 206
        },
        "id": "FYCtKXD1JrFw",
        "outputId": "7ce37154-dfee-4c03-a432-80c48b8459fc"
      },
      "outputs": [
        {
          "data": {
            "text/html": [
              "<div>\n",
              "<style scoped>\n",
              "    .dataframe tbody tr th:only-of-type {\n",
              "        vertical-align: middle;\n",
              "    }\n",
              "\n",
              "    .dataframe tbody tr th {\n",
              "        vertical-align: top;\n",
              "    }\n",
              "\n",
              "    .dataframe thead th {\n",
              "        text-align: right;\n",
              "    }\n",
              "</style>\n",
              "<table border=\"1\" class=\"dataframe\">\n",
              "  <thead>\n",
              "    <tr style=\"text-align: right;\">\n",
              "      <th></th>\n",
              "      <th>complaint</th>\n",
              "    </tr>\n",
              "  </thead>\n",
              "  <tbody>\n",
              "    <tr>\n",
              "      <th>0</th>\n",
              "      <td></td>\n",
              "    </tr>\n",
              "    <tr>\n",
              "      <th>1</th>\n",
              "      <td>Good morning my name is XXXX XXXX and I apprec...</td>\n",
              "    </tr>\n",
              "    <tr>\n",
              "      <th>2</th>\n",
              "      <td>I upgraded my XXXX XXXX card in XX/XX/2018 and...</td>\n",
              "    </tr>\n",
              "    <tr>\n",
              "      <th>3</th>\n",
              "      <td></td>\n",
              "    </tr>\n",
              "    <tr>\n",
              "      <th>4</th>\n",
              "      <td></td>\n",
              "    </tr>\n",
              "  </tbody>\n",
              "</table>\n",
              "</div>"
            ],
            "text/plain": [
              "                                           complaint\n",
              "0                                                   \n",
              "1  Good morning my name is XXXX XXXX and I apprec...\n",
              "2  I upgraded my XXXX XXXX card in XX/XX/2018 and...\n",
              "3                                                   \n",
              "4                                                   "
            ]
          },
          "execution_count": 7,
          "metadata": {},
          "output_type": "execute_result"
        }
      ],
      "source": [
        "# Asignando nombres de columnas\n",
        "# La columna relevante para el análisis es el \"complaint\"\n",
        "df = df[['_source.complaint_what_happened']]#,'_source.product','_source.sub_product',]]\n",
        "df = df.rename(columns={'_source.complaint_what_happened': 'complaint'})#, '_source.product': 'category','_source.sub_product': 'sub_category'})\n",
        "df.head()"
      ]
    },
    {
      "cell_type": "code",
      "execution_count": 8,
      "metadata": {
        "colab": {
          "base_uri": "https://localhost:8080/"
        },
        "id": "ns8ldKZsAm7h",
        "outputId": "01f6cac7-f9a0-4129-8186-79c4d5d0d06f"
      },
      "outputs": [
        {
          "data": {
            "text/plain": [
              "0"
            ]
          },
          "execution_count": 8,
          "metadata": {},
          "output_type": "execute_result"
        }
      ],
      "source": [
        "# nueva columna\n",
        "df[\"complaint\"].isnull().sum()"
      ]
    },
    {
      "cell_type": "code",
      "execution_count": 9,
      "metadata": {
        "colab": {
          "base_uri": "https://localhost:8080/"
        },
        "id": "grQUPFL5JrFx",
        "outputId": "cc21d5dd-7a37-450a-b42d-ddbb5066e403"
      },
      "outputs": [
        {
          "data": {
            "text/plain": [
              "57241"
            ]
          },
          "execution_count": 9,
          "metadata": {},
          "output_type": "execute_result"
        }
      ],
      "source": [
        "# Nan en espacios blancos\n",
        "len(df[df['complaint']==''])"
      ]
    },
    {
      "cell_type": "code",
      "execution_count": 10,
      "metadata": {
        "colab": {
          "base_uri": "https://localhost:8080/"
        },
        "id": "5hp1rX7SoaOt",
        "outputId": "18936140-0e60-43e7-a79c-d94e9b3d0d14"
      },
      "outputs": [
        {
          "data": {
            "text/plain": [
              "57241"
            ]
          },
          "execution_count": 10,
          "metadata": {},
          "output_type": "execute_result"
        }
      ],
      "source": [
        "df[df['complaint']==''] = np.nan\n",
        "df.complaint.isnull().sum()"
      ]
    },
    {
      "cell_type": "code",
      "execution_count": 11,
      "metadata": {
        "colab": {
          "base_uri": "https://localhost:8080/"
        },
        "id": "Jfxd8VSmJrFy",
        "outputId": "3ca70001-065e-4f56-de12-d892b96b3f8f"
      },
      "outputs": [
        {
          "data": {
            "text/plain": [
              "0"
            ]
          },
          "execution_count": 11,
          "metadata": {},
          "output_type": "execute_result"
        }
      ],
      "source": [
        "# Borrar todas las columnas nulas\n",
        "df = df[~df['complaint'].isnull()]\n",
        "df.complaint.isnull().sum()"
      ]
    },
    {
      "cell_type": "markdown",
      "metadata": {
        "id": "L944HZpsJrFy"
      },
      "source": [
        "# **3. Procesamiento de Texto**\n",
        "\n",
        "Pasos tomados en cuenta:\n",
        "\n",
        "* Make the text lowercase\n",
        "* Remove text in square brackets\n",
        "* Remove punctuation\n",
        "* Remove words containing numbers\n",
        "* Lemmatize the texts\n",
        "* Extract the POS tags of the lemmatized text and remove all the words which have tags other than NN[tag == \"NN\"].\n"
      ]
    },
    {
      "cell_type": "code",
      "execution_count": 12,
      "metadata": {
        "id": "CVAqNYbcrgmx"
      },
      "outputs": [],
      "source": [
        "# Nueva celda\n",
        "# Convertir la columna complaint_what_happened a string\n",
        "df['complaint'] = df['complaint'].astype(str)"
      ]
    },
    {
      "cell_type": "code",
      "execution_count": 13,
      "metadata": {
        "id": "qm7SjjSkJrFz"
      },
      "outputs": [],
      "source": [
        "# Limpiando texto\n",
        "def eliminarTexto(s):\n",
        "    s = s.lower()  # Convertimos a minusculas\n",
        "    s = re.sub('\\[.*\\]','', s).strip() # Removemos caracteres no necesarios (entre brackets)\n",
        "    s = s.translate(str.maketrans('', '', string.punctuation)) # Eliminamos signos de puntuación\n",
        "    s = re.sub('\\S*\\d\\S*\\s*','', s).strip()  # Removemos palabras que contienen numeros\n",
        "    return s.strip()"
      ]
    },
    {
      "cell_type": "code",
      "execution_count": 14,
      "metadata": {
        "colab": {
          "base_uri": "https://localhost:8080/"
        },
        "id": "KY6pHMuXPdpZ",
        "outputId": "bf58693e-5118-43d9-f79b-b45f3f131abf"
      },
      "outputs": [
        {
          "data": {
            "text/plain": [
              "1     good morning my name is xxxx xxxx and i apprec...\n",
              "2     i upgraded my xxxx xxxx card in and was told b...\n",
              "10    chase card was reported on however fraudulent ...\n",
              "11    on while trying to book a xxxx  xxxx  ticket i...\n",
              "14    my grand son give me check for i deposit it in...\n",
              "Name: complaint, dtype: object"
            ]
          },
          "execution_count": 14,
          "metadata": {},
          "output_type": "execute_result"
        }
      ],
      "source": [
        "df.complaint = df.complaint.apply(lambda x: eliminarTexto(x))\n",
        "df.complaint.head()"
      ]
    },
    {
      "cell_type": "code",
      "execution_count": 15,
      "metadata": {
        "colab": {
          "base_uri": "https://localhost:8080/",
          "height": 206
        },
        "id": "_S_oZBNcDDy4",
        "outputId": "c924fba2-06fb-4094-ce30-4c7ebdffec8c"
      },
      "outputs": [
        {
          "data": {
            "text/html": [
              "<div>\n",
              "<style scoped>\n",
              "    .dataframe tbody tr th:only-of-type {\n",
              "        vertical-align: middle;\n",
              "    }\n",
              "\n",
              "    .dataframe tbody tr th {\n",
              "        vertical-align: top;\n",
              "    }\n",
              "\n",
              "    .dataframe thead th {\n",
              "        text-align: right;\n",
              "    }\n",
              "</style>\n",
              "<table border=\"1\" class=\"dataframe\">\n",
              "  <thead>\n",
              "    <tr style=\"text-align: right;\">\n",
              "      <th></th>\n",
              "      <th>complaint</th>\n",
              "      <th>lemma</th>\n",
              "    </tr>\n",
              "  </thead>\n",
              "  <tbody>\n",
              "    <tr>\n",
              "      <th>1</th>\n",
              "      <td>good morning my name is xxxx xxxx and i apprec...</td>\n",
              "      <td>good morning xxxx xxxx appreciate help stop ch...</td>\n",
              "    </tr>\n",
              "    <tr>\n",
              "      <th>2</th>\n",
              "      <td>i upgraded my xxxx xxxx card in and was told b...</td>\n",
              "      <td>upgrade xxxx xxxx card tell agent upgrade anni...</td>\n",
              "    </tr>\n",
              "    <tr>\n",
              "      <th>10</th>\n",
              "      <td>chase card was reported on however fraudulent ...</td>\n",
              "      <td>chase card report fraudulent application submi...</td>\n",
              "    </tr>\n",
              "    <tr>\n",
              "      <th>11</th>\n",
              "      <td>on while trying to book a xxxx  xxxx  ticket i...</td>\n",
              "      <td>try book xxxx   xxxx   ticket come offer apply...</td>\n",
              "    </tr>\n",
              "    <tr>\n",
              "      <th>14</th>\n",
              "      <td>my grand son give me check for i deposit it in...</td>\n",
              "      <td>grand son check deposit chase account fund cle...</td>\n",
              "    </tr>\n",
              "  </tbody>\n",
              "</table>\n",
              "</div>"
            ],
            "text/plain": [
              "                                            complaint  \\\n",
              "1   good morning my name is xxxx xxxx and i apprec...   \n",
              "2   i upgraded my xxxx xxxx card in and was told b...   \n",
              "10  chase card was reported on however fraudulent ...   \n",
              "11  on while trying to book a xxxx  xxxx  ticket i...   \n",
              "14  my grand son give me check for i deposit it in...   \n",
              "\n",
              "                                                lemma  \n",
              "1   good morning xxxx xxxx appreciate help stop ch...  \n",
              "2   upgrade xxxx xxxx card tell agent upgrade anni...  \n",
              "10  chase card report fraudulent application submi...  \n",
              "11  try book xxxx   xxxx   ticket come offer apply...  \n",
              "14  grand son check deposit chase account fund cle...  "
            ]
          },
          "execution_count": 15,
          "metadata": {},
          "output_type": "execute_result"
        }
      ],
      "source": [
        "# Lemmatización de texto\n",
        "stopwords = nlp.Defaults.stop_words\n",
        "def lemmatizer(s):\n",
        "    doc = nlp(s)\n",
        "    x = [token.lemma_ for token in doc if not token.text in set(stopwords)]\n",
        "    return ' '.join(x)\n",
        "\n",
        "df['lemma'] =  df.complaint.apply(lambda x: lemmatizer(x))\n",
        "df.head()"
      ]
    },
    {
      "cell_type": "code",
      "execution_count": 16,
      "metadata": {
        "id": "uXnN7aa_JrF0"
      },
      "outputs": [],
      "source": [
        "# Creando dataframe ('df_clean') solo con complaint y la lematización de complaint\n",
        "df_clean = df[['complaint','lemma']]#,'category']]"
      ]
    },
    {
      "cell_type": "code",
      "execution_count": 17,
      "metadata": {
        "colab": {
          "base_uri": "https://localhost:8080/",
          "height": 423
        },
        "id": "nOiDVvEIJrF0",
        "outputId": "693d7aae-3743-4d73-f9e8-b10b0e4a5eb9"
      },
      "outputs": [
        {
          "data": {
            "text/html": [
              "<div>\n",
              "<style scoped>\n",
              "    .dataframe tbody tr th:only-of-type {\n",
              "        vertical-align: middle;\n",
              "    }\n",
              "\n",
              "    .dataframe tbody tr th {\n",
              "        vertical-align: top;\n",
              "    }\n",
              "\n",
              "    .dataframe thead th {\n",
              "        text-align: right;\n",
              "    }\n",
              "</style>\n",
              "<table border=\"1\" class=\"dataframe\">\n",
              "  <thead>\n",
              "    <tr style=\"text-align: right;\">\n",
              "      <th></th>\n",
              "      <th>complaint</th>\n",
              "      <th>lemma</th>\n",
              "    </tr>\n",
              "  </thead>\n",
              "  <tbody>\n",
              "    <tr>\n",
              "      <th>1</th>\n",
              "      <td>good morning my name is xxxx xxxx and i apprec...</td>\n",
              "      <td>good morning xxxx xxxx appreciate help stop ch...</td>\n",
              "    </tr>\n",
              "    <tr>\n",
              "      <th>2</th>\n",
              "      <td>i upgraded my xxxx xxxx card in and was told b...</td>\n",
              "      <td>upgrade xxxx xxxx card tell agent upgrade anni...</td>\n",
              "    </tr>\n",
              "    <tr>\n",
              "      <th>10</th>\n",
              "      <td>chase card was reported on however fraudulent ...</td>\n",
              "      <td>chase card report fraudulent application submi...</td>\n",
              "    </tr>\n",
              "    <tr>\n",
              "      <th>11</th>\n",
              "      <td>on while trying to book a xxxx  xxxx  ticket i...</td>\n",
              "      <td>try book xxxx   xxxx   ticket come offer apply...</td>\n",
              "    </tr>\n",
              "    <tr>\n",
              "      <th>14</th>\n",
              "      <td>my grand son give me check for i deposit it in...</td>\n",
              "      <td>grand son check deposit chase account fund cle...</td>\n",
              "    </tr>\n",
              "    <tr>\n",
              "      <th>...</th>\n",
              "      <td>...</td>\n",
              "      <td>...</td>\n",
              "    </tr>\n",
              "    <tr>\n",
              "      <th>78303</th>\n",
              "      <td>after being a chase card customer for well ove...</td>\n",
              "      <td>chase card customer decade offer multiple soli...</td>\n",
              "    </tr>\n",
              "    <tr>\n",
              "      <th>78309</th>\n",
              "      <td>on wednesday xxxxxxxx i called chas my xxxx xx...</td>\n",
              "      <td>wednesday xxxxxxxx call chas xxxx xxxx visa cr...</td>\n",
              "    </tr>\n",
              "    <tr>\n",
              "      <th>78310</th>\n",
              "      <td>i am not familiar with xxxx pay and did not un...</td>\n",
              "      <td>familiar xxxx pay understand great risk provid...</td>\n",
              "    </tr>\n",
              "    <tr>\n",
              "      <th>78311</th>\n",
              "      <td>i have had flawless credit for yrs ive had cha...</td>\n",
              "      <td>flawless credit yrs ve chase credit card   cha...</td>\n",
              "    </tr>\n",
              "    <tr>\n",
              "      <th>78312</th>\n",
              "      <td>roughly years ago i closed out my accounts wit...</td>\n",
              "      <td>roughly year ago close account jp morgan chase...</td>\n",
              "    </tr>\n",
              "  </tbody>\n",
              "</table>\n",
              "<p>21072 rows × 2 columns</p>\n",
              "</div>"
            ],
            "text/plain": [
              "                                               complaint  \\\n",
              "1      good morning my name is xxxx xxxx and i apprec...   \n",
              "2      i upgraded my xxxx xxxx card in and was told b...   \n",
              "10     chase card was reported on however fraudulent ...   \n",
              "11     on while trying to book a xxxx  xxxx  ticket i...   \n",
              "14     my grand son give me check for i deposit it in...   \n",
              "...                                                  ...   \n",
              "78303  after being a chase card customer for well ove...   \n",
              "78309  on wednesday xxxxxxxx i called chas my xxxx xx...   \n",
              "78310  i am not familiar with xxxx pay and did not un...   \n",
              "78311  i have had flawless credit for yrs ive had cha...   \n",
              "78312  roughly years ago i closed out my accounts wit...   \n",
              "\n",
              "                                                   lemma  \n",
              "1      good morning xxxx xxxx appreciate help stop ch...  \n",
              "2      upgrade xxxx xxxx card tell agent upgrade anni...  \n",
              "10     chase card report fraudulent application submi...  \n",
              "11     try book xxxx   xxxx   ticket come offer apply...  \n",
              "14     grand son check deposit chase account fund cle...  \n",
              "...                                                  ...  \n",
              "78303  chase card customer decade offer multiple soli...  \n",
              "78309  wednesday xxxxxxxx call chas xxxx xxxx visa cr...  \n",
              "78310  familiar xxxx pay understand great risk provid...  \n",
              "78311  flawless credit yrs ve chase credit card   cha...  \n",
              "78312  roughly year ago close account jp morgan chase...  \n",
              "\n",
              "[21072 rows x 2 columns]"
            ]
          },
          "execution_count": 17,
          "metadata": {},
          "output_type": "execute_result"
        }
      ],
      "source": [
        "df_clean"
      ]
    },
    {
      "cell_type": "code",
      "execution_count": 18,
      "metadata": {
        "id": "pvMxER3mqYxh"
      },
      "outputs": [],
      "source": [
        "# Transformamos a texto los campos que en una anterior corrida se reconocieron como float\n",
        "df_clean[df_clean[\"lemma\"].isna()]\n",
        "df_clean['lemma'] = df_clean['lemma'].astype(str)"
      ]
    },
    {
      "cell_type": "code",
      "execution_count": 19,
      "metadata": {
        "id": "Kk7fc4DuJrF1"
      },
      "outputs": [],
      "source": [
        "# Extracción de los tags POS \n",
        "\n",
        "def pos_tag(text):\n",
        "   doc = nlp(text) \n",
        "   x = [token.text for token in doc if token.tag_ == \"NN\"]\n",
        "   return ' '.join(x)\n",
        "\n",
        "df_clean[\"complaint_POS_removed\"] = df_clean[\"lemma\"].apply(lambda x: pos_tag(x))"
      ]
    },
    {
      "cell_type": "code",
      "execution_count": 20,
      "metadata": {
        "colab": {
          "base_uri": "https://localhost:8080/",
          "height": 423
        },
        "id": "AjxfchvFJrF2",
        "outputId": "1d04f6cc-79c2-436c-826c-6bf526d8808a"
      },
      "outputs": [
        {
          "data": {
            "text/html": [
              "<div>\n",
              "<style scoped>\n",
              "    .dataframe tbody tr th:only-of-type {\n",
              "        vertical-align: middle;\n",
              "    }\n",
              "\n",
              "    .dataframe tbody tr th {\n",
              "        vertical-align: top;\n",
              "    }\n",
              "\n",
              "    .dataframe thead th {\n",
              "        text-align: right;\n",
              "    }\n",
              "</style>\n",
              "<table border=\"1\" class=\"dataframe\">\n",
              "  <thead>\n",
              "    <tr style=\"text-align: right;\">\n",
              "      <th></th>\n",
              "      <th>complaint</th>\n",
              "      <th>lemma</th>\n",
              "      <th>complaint_POS_removed</th>\n",
              "    </tr>\n",
              "  </thead>\n",
              "  <tbody>\n",
              "    <tr>\n",
              "      <th>1</th>\n",
              "      <td>good morning my name is xxxx xxxx and i apprec...</td>\n",
              "      <td>good morning xxxx xxxx appreciate help stop ch...</td>\n",
              "      <td>morning help bank service chase debt verificat...</td>\n",
              "    </tr>\n",
              "    <tr>\n",
              "      <th>2</th>\n",
              "      <td>i upgraded my xxxx xxxx card in and was told b...</td>\n",
              "      <td>upgrade xxxx xxxx card tell agent upgrade anni...</td>\n",
              "      <td>card agent upgrade anniversary date change age...</td>\n",
              "    </tr>\n",
              "    <tr>\n",
              "      <th>10</th>\n",
              "      <td>chase card was reported on however fraudulent ...</td>\n",
              "      <td>chase card report fraudulent application submi...</td>\n",
              "      <td>chase card report application submit identity ...</td>\n",
              "    </tr>\n",
              "    <tr>\n",
              "      <th>11</th>\n",
              "      <td>on while trying to book a xxxx  xxxx  ticket i...</td>\n",
              "      <td>try book xxxx   xxxx   ticket come offer apply...</td>\n",
              "      <td>book ticket come offer ticket reward card info...</td>\n",
              "    </tr>\n",
              "    <tr>\n",
              "      <th>14</th>\n",
              "      <td>my grand son give me check for i deposit it in...</td>\n",
              "      <td>grand son check deposit chase account fund cle...</td>\n",
              "      <td>son deposit chase account fund bank account pa...</td>\n",
              "    </tr>\n",
              "    <tr>\n",
              "      <th>...</th>\n",
              "      <td>...</td>\n",
              "      <td>...</td>\n",
              "      <td>...</td>\n",
              "    </tr>\n",
              "    <tr>\n",
              "      <th>78303</th>\n",
              "      <td>after being a chase card customer for well ove...</td>\n",
              "      <td>chase card customer decade offer multiple soli...</td>\n",
              "      <td>chase card customer decade solicitation credit...</td>\n",
              "    </tr>\n",
              "    <tr>\n",
              "      <th>78309</th>\n",
              "      <td>on wednesday xxxxxxxx i called chas my xxxx xx...</td>\n",
              "      <td>wednesday xxxxxxxx call chas xxxx xxxx visa cr...</td>\n",
              "      <td>credit card provider ask claim purchase protec...</td>\n",
              "    </tr>\n",
              "    <tr>\n",
              "      <th>78310</th>\n",
              "      <td>i am not familiar with xxxx pay and did not un...</td>\n",
              "      <td>familiar xxxx pay understand great risk provid...</td>\n",
              "      <td>xxxx risk consumer year trust mobile banking t...</td>\n",
              "    </tr>\n",
              "    <tr>\n",
              "      <th>78311</th>\n",
              "      <td>i have had flawless credit for yrs ive had cha...</td>\n",
              "      <td>flawless credit yrs ve chase credit card   cha...</td>\n",
              "      <td>credit yrs credit card chase freedom problem t...</td>\n",
              "    </tr>\n",
              "    <tr>\n",
              "      <th>78312</th>\n",
              "      <td>roughly years ago i closed out my accounts wit...</td>\n",
              "      <td>roughly year ago close account jp morgan chase...</td>\n",
              "      <td>year account order line credit account payment...</td>\n",
              "    </tr>\n",
              "  </tbody>\n",
              "</table>\n",
              "<p>21072 rows × 3 columns</p>\n",
              "</div>"
            ],
            "text/plain": [
              "                                               complaint  \\\n",
              "1      good morning my name is xxxx xxxx and i apprec...   \n",
              "2      i upgraded my xxxx xxxx card in and was told b...   \n",
              "10     chase card was reported on however fraudulent ...   \n",
              "11     on while trying to book a xxxx  xxxx  ticket i...   \n",
              "14     my grand son give me check for i deposit it in...   \n",
              "...                                                  ...   \n",
              "78303  after being a chase card customer for well ove...   \n",
              "78309  on wednesday xxxxxxxx i called chas my xxxx xx...   \n",
              "78310  i am not familiar with xxxx pay and did not un...   \n",
              "78311  i have had flawless credit for yrs ive had cha...   \n",
              "78312  roughly years ago i closed out my accounts wit...   \n",
              "\n",
              "                                                   lemma  \\\n",
              "1      good morning xxxx xxxx appreciate help stop ch...   \n",
              "2      upgrade xxxx xxxx card tell agent upgrade anni...   \n",
              "10     chase card report fraudulent application submi...   \n",
              "11     try book xxxx   xxxx   ticket come offer apply...   \n",
              "14     grand son check deposit chase account fund cle...   \n",
              "...                                                  ...   \n",
              "78303  chase card customer decade offer multiple soli...   \n",
              "78309  wednesday xxxxxxxx call chas xxxx xxxx visa cr...   \n",
              "78310  familiar xxxx pay understand great risk provid...   \n",
              "78311  flawless credit yrs ve chase credit card   cha...   \n",
              "78312  roughly year ago close account jp morgan chase...   \n",
              "\n",
              "                                   complaint_POS_removed  \n",
              "1      morning help bank service chase debt verificat...  \n",
              "2      card agent upgrade anniversary date change age...  \n",
              "10     chase card report application submit identity ...  \n",
              "11     book ticket come offer ticket reward card info...  \n",
              "14     son deposit chase account fund bank account pa...  \n",
              "...                                                  ...  \n",
              "78303  chase card customer decade solicitation credit...  \n",
              "78309  credit card provider ask claim purchase protec...  \n",
              "78310  xxxx risk consumer year trust mobile banking t...  \n",
              "78311  credit yrs credit card chase freedom problem t...  \n",
              "78312  year account order line credit account payment...  \n",
              "\n",
              "[21072 rows x 3 columns]"
            ]
          },
          "execution_count": 20,
          "metadata": {},
          "output_type": "execute_result"
        }
      ],
      "source": [
        "# El dataframe limpio debe ya tener complaint, lemmatized complaint y el complaint despues de borrar los POS.\n",
        "df_clean"
      ]
    },
    {
      "cell_type": "markdown",
      "metadata": {
        "id": "_7Un1AElJrF2"
      },
      "source": [
        "# **4. Análisis Exploratorio de Datos (EDA).**\n",
        "\n",
        "* Visualización de los datos según la longitud del carácteres 'Complaint'\n",
        "* Encontrar las 40 palabras más usadas en los artículos.\n",
        "* Encontrar los unigrams, bigrams y trigrams top por frecuencia a través de todos los compaints despues de procesar texto."
      ]
    },
    {
      "cell_type": "markdown",
      "metadata": {
        "id": "Dimtc7i3ykRk"
      },
      "source": [
        "### **Visualización de los datos según la longitud del carácteres 'Complaint'**"
      ]
    },
    {
      "cell_type": "code",
      "execution_count": 21,
      "metadata": {
        "colab": {
          "base_uri": "https://localhost:8080/",
          "height": 704
        },
        "id": "q-zaqJF6JrF2",
        "outputId": "b298e771-6cbf-4ac0-888b-5f2213b81837"
      },
      "outputs": [
        {
          "data": {
            "text/plain": [
              "(array([9.235e+03, 6.357e+03, 2.724e+03, 1.277e+03, 7.580e+02, 2.740e+02,\n",
              "        1.500e+02, 7.100e+01, 6.300e+01, 3.900e+01, 3.700e+01, 1.300e+01,\n",
              "        1.100e+01, 1.100e+01, 8.000e+00, 8.000e+00, 7.000e+00, 2.000e+00,\n",
              "        3.000e+00, 3.000e+00, 7.000e+00, 2.000e+00, 2.000e+00, 0.000e+00,\n",
              "        0.000e+00, 0.000e+00, 1.000e+00, 0.000e+00, 0.000e+00, 2.000e+00,\n",
              "        0.000e+00, 0.000e+00, 0.000e+00, 4.000e+00, 0.000e+00, 0.000e+00,\n",
              "        0.000e+00, 0.000e+00, 0.000e+00, 0.000e+00, 1.000e+00, 0.000e+00,\n",
              "        0.000e+00, 0.000e+00, 0.000e+00, 0.000e+00, 0.000e+00, 1.000e+00,\n",
              "        0.000e+00, 1.000e+00]),\n",
              " array([    0. ,   248.5,   497. ,   745.5,   994. ,  1242.5,  1491. ,\n",
              "         1739.5,  1988. ,  2236.5,  2485. ,  2733.5,  2982. ,  3230.5,\n",
              "         3479. ,  3727.5,  3976. ,  4224.5,  4473. ,  4721.5,  4970. ,\n",
              "         5218.5,  5467. ,  5715.5,  5964. ,  6212.5,  6461. ,  6709.5,\n",
              "         6958. ,  7206.5,  7455. ,  7703.5,  7952. ,  8200.5,  8449. ,\n",
              "         8697.5,  8946. ,  9194.5,  9443. ,  9691.5,  9940. , 10188.5,\n",
              "        10437. , 10685.5, 10934. , 11182.5, 11431. , 11679.5, 11928. ,\n",
              "        12176.5, 12425. ]),\n",
              " <BarContainer object of 50 artists>)"
            ]
          },
          "execution_count": 21,
          "metadata": {},
          "output_type": "execute_result"
        },
        {
          "data": {
            "image/png": "[encoded data removed]",
            "text/plain": [
              "<Figure size 720x432 with 1 Axes>"
            ]
          },
          "metadata": {
            "needs_background": "light"
          },
          "output_type": "display_data"
        }
      ],
      "source": [
        "# Visualización de datos de acuerdo a Complaint\n",
        "plt.figure(figsize=(10,6))\n",
        "doc_lens = [len(d) for d in df_clean[\"complaint_POS_removed\"]] \n",
        "plt.hist(doc_lens, bins = 50)"
      ]
    },
    {
      "cell_type": "markdown",
      "metadata": {
        "id": "T9jD_6SeJrF3"
      },
      "source": [
        "### **Encontrar las 40 palabras más usadas en los artículos.**"
      ]
    },
    {
      "cell_type": "code",
      "execution_count": 23,
      "metadata": {},
      "outputs": [
        {
          "name": "stdout",
          "output_type": "stream",
          "text": [
            "Collecting wordcloud\n",
            "  Downloading wordcloud-1.8.2.2-cp39-cp39-win_amd64.whl (153 kB)\n",
            "Requirement already satisfied: matplotlib in c:\\users\\dani villalobos\\anaconda3\\lib\\site-packages (from wordcloud) (3.5.1)\n",
            "Requirement already satisfied: numpy>=1.6.1 in c:\\users\\dani villalobos\\anaconda3\\lib\\site-packages (from wordcloud) (1.21.5)\n",
            "Requirement already satisfied: pillow in c:\\users\\dani villalobos\\anaconda3\\lib\\site-packages (from wordcloud) (9.0.1)\n",
            "Requirement already satisfied: packaging>=20.0 in c:\\users\\dani villalobos\\anaconda3\\lib\\site-packages (from matplotlib->wordcloud) (21.3)\n",
            "Requirement already satisfied: kiwisolver>=1.0.1 in c:\\users\\dani villalobos\\anaconda3\\lib\\site-packages (from matplotlib->wordcloud) (1.3.2)\n",
            "Requirement already satisfied: pyparsing>=2.2.1 in c:\\users\\dani villalobos\\anaconda3\\lib\\site-packages (from matplotlib->wordcloud) (3.0.4)\n",
            "Requirement already satisfied: python-dateutil>=2.7 in c:\\users\\dani villalobos\\anaconda3\\lib\\site-packages (from matplotlib->wordcloud) (2.8.2)\n",
            "Requirement already satisfied: cycler>=0.10 in c:\\users\\dani villalobos\\anaconda3\\lib\\site-packages (from matplotlib->wordcloud) (0.11.0)\n",
            "Requirement already satisfied: fonttools>=4.22.0 in c:\\users\\dani villalobos\\anaconda3\\lib\\site-packages (from matplotlib->wordcloud) (4.25.0)\n",
            "Requirement already satisfied: six>=1.5 in c:\\users\\dani villalobos\\anaconda3\\lib\\site-packages (from python-dateutil>=2.7->matplotlib->wordcloud) (1.16.0)\n",
            "Installing collected packages: wordcloud\n",
            "Successfully installed wordcloud-1.8.2.2\n"
          ]
        }
      ],
      "source": [
        "!pip install wordcloud"
      ]
    },
    {
      "cell_type": "code",
      "execution_count": 24,
      "metadata": {
        "colab": {
          "base_uri": "https://localhost:8080/",
          "height": 327
        },
        "id": "QcfdvtfZJrF3",
        "outputId": "90bde9a5-c236-487a-8ef5-62343d306126"
      },
      "outputs": [
        {
          "name": "stdout",
          "output_type": "stream",
          "text": [
            "<wordcloud.wordcloud.WordCloud object at 0x000001F2DC942220>\n"
          ]
        },
        {
          "data": {
            "image/png": "[encoded data removed]",
            "text/plain": [
              "<Figure size 720x432 with 1 Axes>"
            ]
          },
          "metadata": {
            "needs_background": "light"
          },
          "output_type": "display_data"
        }
      ],
      "source": [
        "# Encontrar los top 40 palabras por frecuencia en todos los artículos despues de procesar el texto.\n",
        "\n",
        "from wordcloud import WordCloud\n",
        "maxwords=40\n",
        "wordcloud = WordCloud(stopwords=stopwords,max_words=maxwords).generate(str(df_clean.complaint_POS_removed))\n",
        "\n",
        "print(wordcloud)\n",
        "plt.figure(figsize=(10,6))\n",
        "plt.imshow(wordcloud)\n",
        "plt.axis('off')\n",
        "plt.show()"
      ]
    },
    {
      "cell_type": "code",
      "execution_count": 25,
      "metadata": {
        "colab": {
          "base_uri": "https://localhost:8080/",
          "height": 326
        },
        "id": "dvPOiMsRK1bN",
        "outputId": "da54f1aa-61e4-4587-e690-e1a010efad7b"
      },
      "outputs": [
        {
          "name": "stdout",
          "output_type": "stream",
          "text": [
            "<wordcloud.wordcloud.WordCloud object at 0x000001F2DD018B50>\n"
          ]
        },
        {
          "data": {
            "image/png": "[encoded data removed]",
            "text/plain": [
              "<Figure size 720x432 with 1 Axes>"
            ]
          },
          "metadata": {
            "needs_background": "light"
          },
          "output_type": "display_data"
        }
      ],
      "source": [
        "from PIL import Image\n",
        "mask = np.array(Image.open(\"scream.png\"))\n",
        "mask[mask == 1] = 255\n",
        "\n",
        "wordcloud = WordCloud(background_color = \"white\", stopwords = stopwords, max_words = 50, mask = mask).generate(str(df_clean.complaint_POS_removed))\n",
        "print(wordcloud)\n",
        "plt.figure(figsize=(10,6))\n",
        "plt.imshow(wordcloud)\n",
        "plt.axis(\"off\")\n",
        "plt.show();"
      ]
    },
    {
      "cell_type": "code",
      "execution_count": 26,
      "metadata": {
        "id": "OkSmc3UaJrF4"
      },
      "outputs": [],
      "source": [
        "# Borrando -PRON- del texto\n",
        "df_clean['Complaint_clean'] = df_clean['complaint_POS_removed'].str.replace('-PRON-', '')"
      ]
    },
    {
      "cell_type": "markdown",
      "metadata": {
        "id": "5DfCSbbmJrF4"
      },
      "source": [
        "### **Encontrar los unigrams, bigrams y trigrams top por frecuencia a través de todos los compaints despues de procesar texto.**"
      ]
    },
    {
      "cell_type": "code",
      "execution_count": 27,
      "metadata": {
        "id": "5mbk5DS5JrF4"
      },
      "outputs": [],
      "source": [
        "#Encontrar los top 30 unigramas de frecuencia en el dataframe(df_clean). \n",
        "\n",
        "def xgrams(s, n=30, g=1):\n",
        "  vec = CountVectorizer(stop_words='english', ngram_range=(g,g)).fit(s)\n",
        "  bagofwords = vec.transform(s)\n",
        "  suma = bagofwords.sum(axis=0)\n",
        "  f = [(word, suma[0, index]) for word, index in vec.vocabulary_.items()]\n",
        "  f = sorted(f, key = lambda x: x[1], reverse=True)\n",
        "  return f[:n]"
      ]
    },
    {
      "cell_type": "code",
      "execution_count": 28,
      "metadata": {
        "colab": {
          "base_uri": "https://localhost:8080/",
          "height": 363
        },
        "id": "YX7fedm1JrF8",
        "outputId": "ce16055e-6e54-4c4e-d089-719b0c8f57df"
      },
      "outputs": [
        {
          "data": {
            "text/html": [
              "<div>\n",
              "<style scoped>\n",
              "    .dataframe tbody tr th:only-of-type {\n",
              "        vertical-align: middle;\n",
              "    }\n",
              "\n",
              "    .dataframe tbody tr th {\n",
              "        vertical-align: top;\n",
              "    }\n",
              "\n",
              "    .dataframe thead th {\n",
              "        text-align: right;\n",
              "    }\n",
              "</style>\n",
              "<table border=\"1\" class=\"dataframe\">\n",
              "  <thead>\n",
              "    <tr style=\"text-align: right;\">\n",
              "      <th></th>\n",
              "      <th>unigram</th>\n",
              "      <th>count</th>\n",
              "    </tr>\n",
              "  </thead>\n",
              "  <tbody>\n",
              "    <tr>\n",
              "      <th>0</th>\n",
              "      <td>chase</td>\n",
              "      <td>53415</td>\n",
              "    </tr>\n",
              "    <tr>\n",
              "      <th>1</th>\n",
              "      <td>account</td>\n",
              "      <td>40962</td>\n",
              "    </tr>\n",
              "    <tr>\n",
              "      <th>2</th>\n",
              "      <td>credit</td>\n",
              "      <td>33554</td>\n",
              "    </tr>\n",
              "    <tr>\n",
              "      <th>3</th>\n",
              "      <td>xxxx</td>\n",
              "      <td>31273</td>\n",
              "    </tr>\n",
              "    <tr>\n",
              "      <th>4</th>\n",
              "      <td>card</td>\n",
              "      <td>29835</td>\n",
              "    </tr>\n",
              "    <tr>\n",
              "      <th>5</th>\n",
              "      <td>payment</td>\n",
              "      <td>21064</td>\n",
              "    </tr>\n",
              "    <tr>\n",
              "      <th>6</th>\n",
              "      <td>bank</td>\n",
              "      <td>17034</td>\n",
              "    </tr>\n",
              "    <tr>\n",
              "      <th>7</th>\n",
              "      <td>time</td>\n",
              "      <td>15871</td>\n",
              "    </tr>\n",
              "    <tr>\n",
              "      <th>8</th>\n",
              "      <td>charge</td>\n",
              "      <td>15292</td>\n",
              "    </tr>\n",
              "    <tr>\n",
              "      <th>9</th>\n",
              "      <td>day</td>\n",
              "      <td>12831</td>\n",
              "    </tr>\n",
              "  </tbody>\n",
              "</table>\n",
              "</div>"
            ],
            "text/plain": [
              "   unigram  count\n",
              "0    chase  53415\n",
              "1  account  40962\n",
              "2   credit  33554\n",
              "3     xxxx  31273\n",
              "4     card  29835\n",
              "5  payment  21064\n",
              "6     bank  17034\n",
              "7     time  15871\n",
              "8   charge  15292\n",
              "9      day  12831"
            ]
          },
          "execution_count": 28,
          "metadata": {},
          "output_type": "execute_result"
        }
      ],
      "source": [
        "# Top 10 de palabras\n",
        "top10uni = xgrams(df_clean['Complaint_clean'].values.astype('U'), 10, 1)\n",
        "df_unigram = pd.DataFrame(top10uni, columns=['unigram', 'count'])\n",
        "df_unigram"
      ]
    },
    {
      "cell_type": "code",
      "execution_count": 29,
      "metadata": {
        "colab": {
          "base_uri": "https://localhost:8080/",
          "height": 404
        },
        "id": "FeWdismYTMKG",
        "outputId": "a50f0edc-2cf0-4df0-fa58-498605da2488"
      },
      "outputs": [
        {
          "data": {
            "image/png": "[encoded data removed]",
            "text/plain": [
              "<Figure size 720x432 with 1 Axes>"
            ]
          },
          "metadata": {
            "needs_background": "light"
          },
          "output_type": "display_data"
        }
      ],
      "source": [
        "# Visualizamos los top 10 unigramas\n",
        "\n",
        "plt.figure(figsize=[10,6])\n",
        "sns.barplot(x=df_unigram['count'], y=df_unigram['unigram'],color='steelblue')\n",
        "plt.xlabel(\"Frecuencia\")\n",
        "plt.title(\"Top 10 Unigrams\")\n",
        "plt.show()"
      ]
    },
    {
      "cell_type": "code",
      "execution_count": 30,
      "metadata": {
        "colab": {
          "base_uri": "https://localhost:8080/",
          "height": 363
        },
        "id": "7oZwuziUUIIV",
        "outputId": "9d59acfb-7ef9-4003-fc51-2700c0318ed7"
      },
      "outputs": [
        {
          "data": {
            "text/html": [
              "<div>\n",
              "<style scoped>\n",
              "    .dataframe tbody tr th:only-of-type {\n",
              "        vertical-align: middle;\n",
              "    }\n",
              "\n",
              "    .dataframe tbody tr th {\n",
              "        vertical-align: top;\n",
              "    }\n",
              "\n",
              "    .dataframe thead th {\n",
              "        text-align: right;\n",
              "    }\n",
              "</style>\n",
              "<table border=\"1\" class=\"dataframe\">\n",
              "  <thead>\n",
              "    <tr style=\"text-align: right;\">\n",
              "      <th></th>\n",
              "      <th>bigram</th>\n",
              "      <th>count</th>\n",
              "    </tr>\n",
              "  </thead>\n",
              "  <tbody>\n",
              "    <tr>\n",
              "      <th>0</th>\n",
              "      <td>credit card</td>\n",
              "      <td>12773</td>\n",
              "    </tr>\n",
              "    <tr>\n",
              "      <th>1</th>\n",
              "      <td>credit report</td>\n",
              "      <td>3893</td>\n",
              "    </tr>\n",
              "    <tr>\n",
              "      <th>2</th>\n",
              "      <td>chase credit</td>\n",
              "      <td>3070</td>\n",
              "    </tr>\n",
              "    <tr>\n",
              "      <th>3</th>\n",
              "      <td>customer service</td>\n",
              "      <td>2923</td>\n",
              "    </tr>\n",
              "    <tr>\n",
              "      <th>4</th>\n",
              "      <td>account chase</td>\n",
              "      <td>2432</td>\n",
              "    </tr>\n",
              "    <tr>\n",
              "      <th>5</th>\n",
              "      <td>chase bank</td>\n",
              "      <td>2119</td>\n",
              "    </tr>\n",
              "    <tr>\n",
              "      <th>6</th>\n",
              "      <td>check account</td>\n",
              "      <td>2113</td>\n",
              "    </tr>\n",
              "    <tr>\n",
              "      <th>7</th>\n",
              "      <td>chase account</td>\n",
              "      <td>2034</td>\n",
              "    </tr>\n",
              "    <tr>\n",
              "      <th>8</th>\n",
              "      <td>xxxx xxxx</td>\n",
              "      <td>1955</td>\n",
              "    </tr>\n",
              "    <tr>\n",
              "      <th>9</th>\n",
              "      <td>contact chase</td>\n",
              "      <td>1893</td>\n",
              "    </tr>\n",
              "  </tbody>\n",
              "</table>\n",
              "</div>"
            ],
            "text/plain": [
              "             bigram  count\n",
              "0       credit card  12773\n",
              "1     credit report   3893\n",
              "2      chase credit   3070\n",
              "3  customer service   2923\n",
              "4     account chase   2432\n",
              "5        chase bank   2119\n",
              "6     check account   2113\n",
              "7     chase account   2034\n",
              "8         xxxx xxxx   1955\n",
              "9     contact chase   1893"
            ]
          },
          "execution_count": 30,
          "metadata": {},
          "output_type": "execute_result"
        }
      ],
      "source": [
        "# Top 10 palabras en el Bigram\n",
        "top10bi = xgrams(df_clean['Complaint_clean'].values.astype('U'), 10, 2)\n",
        "df_bigram = pd.DataFrame(top10bi, columns=['bigram', 'count'])\n",
        "df_bigram"
      ]
    },
    {
      "cell_type": "code",
      "execution_count": 31,
      "metadata": {
        "colab": {
          "base_uri": "https://localhost:8080/",
          "height": 404
        },
        "id": "NPnMNIpyJrF9",
        "outputId": "435f5a4d-a41c-4e26-9d49-e6eb9304be70"
      },
      "outputs": [
        {
          "data": {
            "image/png": "[encoded data removed]",
            "text/plain": [
              "<Figure size 720x432 with 1 Axes>"
            ]
          },
          "metadata": {
            "needs_background": "light"
          },
          "output_type": "display_data"
        }
      ],
      "source": [
        "# Visualizamos los top 10 bigramas\n",
        "\n",
        "plt.figure(figsize=[10,6])\n",
        "sns.barplot(x=df_bigram['count'], y=df_bigram['bigram'],color='sandybrown')\n",
        "plt.xlabel(\"Frecuencia\")\n",
        "plt.title(\"Top 10 Bigrams\")\n",
        "plt.show()"
      ]
    },
    {
      "cell_type": "code",
      "execution_count": 32,
      "metadata": {
        "colab": {
          "base_uri": "https://localhost:8080/",
          "height": 363
        },
        "id": "Xkh7vtbtJrF-",
        "outputId": "4e3af091-c7a4-40fc-8315-81f93e0916d3"
      },
      "outputs": [
        {
          "data": {
            "text/html": [
              "<div>\n",
              "<style scoped>\n",
              "    .dataframe tbody tr th:only-of-type {\n",
              "        vertical-align: middle;\n",
              "    }\n",
              "\n",
              "    .dataframe tbody tr th {\n",
              "        vertical-align: top;\n",
              "    }\n",
              "\n",
              "    .dataframe thead th {\n",
              "        text-align: right;\n",
              "    }\n",
              "</style>\n",
              "<table border=\"1\" class=\"dataframe\">\n",
              "  <thead>\n",
              "    <tr style=\"text-align: right;\">\n",
              "      <th></th>\n",
              "      <th>trigram</th>\n",
              "      <th>count</th>\n",
              "    </tr>\n",
              "  </thead>\n",
              "  <tbody>\n",
              "    <tr>\n",
              "      <th>0</th>\n",
              "      <td>chase credit card</td>\n",
              "      <td>2196</td>\n",
              "    </tr>\n",
              "    <tr>\n",
              "      <th>1</th>\n",
              "      <td>credit card account</td>\n",
              "      <td>1050</td>\n",
              "    </tr>\n",
              "    <tr>\n",
              "      <th>2</th>\n",
              "      <td>credit card company</td>\n",
              "      <td>978</td>\n",
              "    </tr>\n",
              "    <tr>\n",
              "      <th>3</th>\n",
              "      <td>credit card chase</td>\n",
              "      <td>738</td>\n",
              "    </tr>\n",
              "    <tr>\n",
              "      <th>4</th>\n",
              "      <td>xxxx credit card</td>\n",
              "      <td>652</td>\n",
              "    </tr>\n",
              "    <tr>\n",
              "      <th>5</th>\n",
              "      <td>chase customer service</td>\n",
              "      <td>559</td>\n",
              "    </tr>\n",
              "    <tr>\n",
              "      <th>6</th>\n",
              "      <td>inquiry credit report</td>\n",
              "      <td>483</td>\n",
              "    </tr>\n",
              "    <tr>\n",
              "      <th>7</th>\n",
              "      <td>credit card credit</td>\n",
              "      <td>438</td>\n",
              "    </tr>\n",
              "    <tr>\n",
              "      <th>8</th>\n",
              "      <td>charge credit card</td>\n",
              "      <td>406</td>\n",
              "    </tr>\n",
              "    <tr>\n",
              "      <th>9</th>\n",
              "      <td>credit card xxxx</td>\n",
              "      <td>385</td>\n",
              "    </tr>\n",
              "  </tbody>\n",
              "</table>\n",
              "</div>"
            ],
            "text/plain": [
              "                  trigram  count\n",
              "0       chase credit card   2196\n",
              "1     credit card account   1050\n",
              "2     credit card company    978\n",
              "3       credit card chase    738\n",
              "4        xxxx credit card    652\n",
              "5  chase customer service    559\n",
              "6   inquiry credit report    483\n",
              "7      credit card credit    438\n",
              "8      charge credit card    406\n",
              "9        credit card xxxx    385"
            ]
          },
          "execution_count": 32,
          "metadata": {},
          "output_type": "execute_result"
        }
      ],
      "source": [
        "# Top 10 words in the Trigram frequency \n",
        "top10tri = xgrams(df_clean['Complaint_clean'].values.astype('U'), 10, 3)\n",
        "df_trigram = pd.DataFrame(top10tri, columns=['trigram', 'count'])\n",
        "df_trigram"
      ]
    },
    {
      "cell_type": "code",
      "execution_count": 33,
      "metadata": {
        "colab": {
          "base_uri": "https://localhost:8080/",
          "height": 404
        },
        "id": "REcVxNfvJrF-",
        "outputId": "95228d9d-af91-4bff-c323-eebe9c64b5a9"
      },
      "outputs": [
        {
          "data": {
            "image/png": "[encoded data removed]",
            "text/plain": [
              "<Figure size 720x432 with 1 Axes>"
            ]
          },
          "metadata": {
            "needs_background": "light"
          },
          "output_type": "display_data"
        }
      ],
      "source": [
        "# Visualizamos los top 10 trigramas\n",
        "\n",
        "plt.figure(figsize=[10,6])\n",
        "sns.barplot(x=df_trigram['count'], y=df_trigram['trigram'],color='black')\n",
        "plt.xlabel(\"Frecuencia\")\n",
        "plt.title(\"Top 10 Trigrams\")\n",
        "plt.show()"
      ]
    },
    {
      "attachments": {},
      "cell_type": "markdown",
      "metadata": {
        "id": "yUXzFji0JrF_"
      },
      "source": [
        "### **Los datos personales del cliente se han enmascarado en el conjunto de datos con xxxx. Eliminemos el texto enmascarado ya que no será de utilidad para nuestro análisis.**"
      ]
    },
    {
      "cell_type": "code",
      "execution_count": 34,
      "metadata": {
        "id": "wKda-a_IJrF_"
      },
      "outputs": [],
      "source": [
        "df_clean['Complaint_clean'] = df_clean['Complaint_clean'].str.replace('xxxx','')"
      ]
    },
    {
      "cell_type": "code",
      "execution_count": 35,
      "metadata": {
        "colab": {
          "base_uri": "https://localhost:8080/",
          "height": 641
        },
        "id": "9UIFk8fQJrF_",
        "outputId": "c5e52c34-89f6-4f33-8f48-5f133849900a"
      },
      "outputs": [
        {
          "data": {
            "text/html": [
              "<div>\n",
              "<style scoped>\n",
              "    .dataframe tbody tr th:only-of-type {\n",
              "        vertical-align: middle;\n",
              "    }\n",
              "\n",
              "    .dataframe tbody tr th {\n",
              "        vertical-align: top;\n",
              "    }\n",
              "\n",
              "    .dataframe thead th {\n",
              "        text-align: right;\n",
              "    }\n",
              "</style>\n",
              "<table border=\"1\" class=\"dataframe\">\n",
              "  <thead>\n",
              "    <tr style=\"text-align: right;\">\n",
              "      <th></th>\n",
              "      <th>complaint</th>\n",
              "      <th>lemma</th>\n",
              "      <th>complaint_POS_removed</th>\n",
              "      <th>Complaint_clean</th>\n",
              "    </tr>\n",
              "  </thead>\n",
              "  <tbody>\n",
              "    <tr>\n",
              "      <th>1</th>\n",
              "      <td>good morning my name is xxxx xxxx and i apprec...</td>\n",
              "      <td>good morning xxxx xxxx appreciate help stop ch...</td>\n",
              "      <td>morning help bank service chase debt verificat...</td>\n",
              "      <td>morning help bank service chase debt verificat...</td>\n",
              "    </tr>\n",
              "    <tr>\n",
              "      <th>2</th>\n",
              "      <td>i upgraded my xxxx xxxx card in and was told b...</td>\n",
              "      <td>upgrade xxxx xxxx card tell agent upgrade anni...</td>\n",
              "      <td>card agent upgrade anniversary date change age...</td>\n",
              "      <td>card agent upgrade anniversary date change age...</td>\n",
              "    </tr>\n",
              "    <tr>\n",
              "      <th>10</th>\n",
              "      <td>chase card was reported on however fraudulent ...</td>\n",
              "      <td>chase card report fraudulent application submi...</td>\n",
              "      <td>chase card report application submit identity ...</td>\n",
              "      <td>chase card report application submit identity ...</td>\n",
              "    </tr>\n",
              "    <tr>\n",
              "      <th>11</th>\n",
              "      <td>on while trying to book a xxxx  xxxx  ticket i...</td>\n",
              "      <td>try book xxxx   xxxx   ticket come offer apply...</td>\n",
              "      <td>book ticket come offer ticket reward card info...</td>\n",
              "      <td>book ticket come offer ticket reward card info...</td>\n",
              "    </tr>\n",
              "    <tr>\n",
              "      <th>14</th>\n",
              "      <td>my grand son give me check for i deposit it in...</td>\n",
              "      <td>grand son check deposit chase account fund cle...</td>\n",
              "      <td>son deposit chase account fund bank account pa...</td>\n",
              "      <td>son deposit chase account fund bank account pa...</td>\n",
              "    </tr>\n",
              "    <tr>\n",
              "      <th>...</th>\n",
              "      <td>...</td>\n",
              "      <td>...</td>\n",
              "      <td>...</td>\n",
              "      <td>...</td>\n",
              "    </tr>\n",
              "    <tr>\n",
              "      <th>78303</th>\n",
              "      <td>after being a chase card customer for well ove...</td>\n",
              "      <td>chase card customer decade offer multiple soli...</td>\n",
              "      <td>chase card customer decade solicitation credit...</td>\n",
              "      <td>chase card customer decade solicitation credit...</td>\n",
              "    </tr>\n",
              "    <tr>\n",
              "      <th>78309</th>\n",
              "      <td>on wednesday xxxxxxxx i called chas my xxxx xx...</td>\n",
              "      <td>wednesday xxxxxxxx call chas xxxx xxxx visa cr...</td>\n",
              "      <td>credit card provider ask claim purchase protec...</td>\n",
              "      <td>credit card provider ask claim purchase protec...</td>\n",
              "    </tr>\n",
              "    <tr>\n",
              "      <th>78310</th>\n",
              "      <td>i am not familiar with xxxx pay and did not un...</td>\n",
              "      <td>familiar xxxx pay understand great risk provid...</td>\n",
              "      <td>xxxx risk consumer year trust mobile banking t...</td>\n",
              "      <td>risk consumer year trust mobile banking tell ...</td>\n",
              "    </tr>\n",
              "    <tr>\n",
              "      <th>78311</th>\n",
              "      <td>i have had flawless credit for yrs ive had cha...</td>\n",
              "      <td>flawless credit yrs ve chase credit card   cha...</td>\n",
              "      <td>credit yrs credit card chase freedom problem t...</td>\n",
              "      <td>credit yrs credit card chase freedom problem t...</td>\n",
              "    </tr>\n",
              "    <tr>\n",
              "      <th>78312</th>\n",
              "      <td>roughly years ago i closed out my accounts wit...</td>\n",
              "      <td>roughly year ago close account jp morgan chase...</td>\n",
              "      <td>year account order line credit account payment...</td>\n",
              "      <td>year account order line credit account payment...</td>\n",
              "    </tr>\n",
              "  </tbody>\n",
              "</table>\n",
              "<p>21072 rows × 4 columns</p>\n",
              "</div>"
            ],
            "text/plain": [
              "                                               complaint  \\\n",
              "1      good morning my name is xxxx xxxx and i apprec...   \n",
              "2      i upgraded my xxxx xxxx card in and was told b...   \n",
              "10     chase card was reported on however fraudulent ...   \n",
              "11     on while trying to book a xxxx  xxxx  ticket i...   \n",
              "14     my grand son give me check for i deposit it in...   \n",
              "...                                                  ...   \n",
              "78303  after being a chase card customer for well ove...   \n",
              "78309  on wednesday xxxxxxxx i called chas my xxxx xx...   \n",
              "78310  i am not familiar with xxxx pay and did not un...   \n",
              "78311  i have had flawless credit for yrs ive had cha...   \n",
              "78312  roughly years ago i closed out my accounts wit...   \n",
              "\n",
              "                                                   lemma  \\\n",
              "1      good morning xxxx xxxx appreciate help stop ch...   \n",
              "2      upgrade xxxx xxxx card tell agent upgrade anni...   \n",
              "10     chase card report fraudulent application submi...   \n",
              "11     try book xxxx   xxxx   ticket come offer apply...   \n",
              "14     grand son check deposit chase account fund cle...   \n",
              "...                                                  ...   \n",
              "78303  chase card customer decade offer multiple soli...   \n",
              "78309  wednesday xxxxxxxx call chas xxxx xxxx visa cr...   \n",
              "78310  familiar xxxx pay understand great risk provid...   \n",
              "78311  flawless credit yrs ve chase credit card   cha...   \n",
              "78312  roughly year ago close account jp morgan chase...   \n",
              "\n",
              "                                   complaint_POS_removed  \\\n",
              "1      morning help bank service chase debt verificat...   \n",
              "2      card agent upgrade anniversary date change age...   \n",
              "10     chase card report application submit identity ...   \n",
              "11     book ticket come offer ticket reward card info...   \n",
              "14     son deposit chase account fund bank account pa...   \n",
              "...                                                  ...   \n",
              "78303  chase card customer decade solicitation credit...   \n",
              "78309  credit card provider ask claim purchase protec...   \n",
              "78310  xxxx risk consumer year trust mobile banking t...   \n",
              "78311  credit yrs credit card chase freedom problem t...   \n",
              "78312  year account order line credit account payment...   \n",
              "\n",
              "                                         Complaint_clean  \n",
              "1      morning help bank service chase debt verificat...  \n",
              "2      card agent upgrade anniversary date change age...  \n",
              "10     chase card report application submit identity ...  \n",
              "11     book ticket come offer ticket reward card info...  \n",
              "14     son deposit chase account fund bank account pa...  \n",
              "...                                                  ...  \n",
              "78303  chase card customer decade solicitation credit...  \n",
              "78309  credit card provider ask claim purchase protec...  \n",
              "78310   risk consumer year trust mobile banking tell ...  \n",
              "78311  credit yrs credit card chase freedom problem t...  \n",
              "78312  year account order line credit account payment...  \n",
              "\n",
              "[21072 rows x 4 columns]"
            ]
          },
          "execution_count": 35,
          "metadata": {},
          "output_type": "execute_result"
        }
      ],
      "source": [
        "# Todos los datos enmascarados de borraron\n",
        "df_clean"
      ]
    },
    {
      "cell_type": "markdown",
      "metadata": {
        "id": "k-I0k0QtJrGA"
      },
      "source": [
        "# **5. Extracción de características**\n",
        "Conversión de los textos sin procesar en una matriz de características TF-IDF"
      ]
    },
    {
      "cell_type": "markdown",
      "metadata": {
        "id": "8Iu4GwYE5a2k"
      },
      "source": [
        "\n",
        "**max_df** se utiliza para eliminar términos que aparecen con demasiada frecuencia, también conocido como \"palabras vacías específicas del corpus\"\n",
        "max_df = 0.95 significa \"ignorar términos que aparecen en más del 95% de las quejas\"\n",
        "\n",
        "**min_df** se utiliza para eliminar términos que aparecen con poca frecuencia\n",
        "min_df = 2 significa \"ignorar términos que aparecen en menos de 2 denuncias\""
      ]
    },
    {
      "cell_type": "code",
      "execution_count": 36,
      "metadata": {
        "id": "Y8fGwaCPJrGA"
      },
      "outputs": [],
      "source": [
        "# Inicializando TfidfVectorizer \n",
        "tfidf = TfidfVectorizer(min_df=2, max_df=0.95, stop_words='english')"
      ]
    },
    {
      "cell_type": "markdown",
      "metadata": {
        "id": "yYzD85nTJrGA"
      },
      "source": [
        "### **Matriz de términos de documento usando fit_transform**\n",
        "\n",
        "El contenido de una matriz de términos de documento son tuplas de (complaint_id,token_id) puntuación tf-idf:\n",
        "Las tuplas que no están tienen una puntuación tf-idf de 0"
      ]
    },
    {
      "cell_type": "code",
      "execution_count": 37,
      "metadata": {
        "id": "ffzdDpp_JrGB"
      },
      "outputs": [],
      "source": [
        "# Term Matrix transfiriendo las columnas de complaints en df_clean.\n",
        "termMatrix = tfidf.fit_transform(df_clean['Complaint_clean'])"
      ]
    },
    {
      "cell_type": "markdown",
      "metadata": {
        "id": "7Q9lwvNEJrGB"
      },
      "source": [
        "# **6. Topic Modelling usando NMF**"
      ]
    },
    {
      "cell_type": "markdown",
      "metadata": {
        "id": "MfSm-W3c6G3c"
      },
      "source": [
        "Non-Negative Matrix Factorization (NMF) es una técnica no supervisada, por lo que no hay etiquetas de temas en los que se entrenará el modelo. La forma en que funciona es que NMF descompone (o factoriza) vectores de alta dimensión en una representación de menor dimensión. Estos vectores de menor dimensión no son negativos, lo que también significa que sus coeficientes no son negativos.\n",
        "\n",
        "En el presente trabajo se realizó lo siguiente:\n",
        "\n",
        "* Encontrar el mejor número de clústeres\n",
        "* Aplicar el mejor número para crear grupos de palabras\n",
        "* Inspeccionar y validar la corrección de cada grupo frente a las quejas\n",
        "* Correjir las etiquetas\n",
        "* Asignar los grupos a temas/nombres de grupos\n",
        "* Encontrar el mejor número de clústeres\n",
        "* Aplicar el mejor número para crear grupos de palabras\n",
        "* Inspeccionar y validar la corrección de cada grupo frente a las quejas (Complaints)\n",
        "* Correr las etiquetas \n",
        "* Mapear el grupo de nombres de topicos/clusters"
      ]
    },
    {
      "cell_type": "code",
      "execution_count": 38,
      "metadata": {
        "id": "amLT4omWJrGB"
      },
      "outputs": [],
      "source": [
        "from sklearn.decomposition import NMF"
      ]
    },
    {
      "cell_type": "markdown",
      "metadata": {
        "id": "0wYR1xUTJrGD"
      },
      "source": [
        "## **6.1 Manual Topic Modeling**\n",
        "Debe adoptar el enfoque de prueba y error para encontrar la mejor cantidad de topicos para su modelo NMF.\n",
        "\n",
        "El único parámetro que se requiere es el número de componentes, es decir, el número de topicos que queremos. Este es el paso más crucial en todo el proceso de modelado de topicos y afectará en gran medida la calidad de sus topicos finales."
      ]
    },
    {
      "cell_type": "code",
      "execution_count": 39,
      "metadata": {
        "id": "sgd2A6bhJrGD"
      },
      "outputs": [],
      "source": [
        "# Cargado de nmf_model con n_components \n",
        "num_topics = 5 \n",
        "# Mantener random_state =40\n",
        "nmf_model = NMF(n_components=num_topics, random_state=40)#write your code here"
      ]
    },
    {
      "cell_type": "code",
      "execution_count": 41,
      "metadata": {
        "id": "VPMDYbt_JrGE"
      },
      "outputs": [],
      "source": [
        "nmf_model.fit(termMatrix)\n",
        "len(tfidf.get_feature_names())\n",
        "H = nmf_model.components_   "
      ]
    },
    {
      "cell_type": "code",
      "execution_count": 42,
      "metadata": {
        "colab": {
          "base_uri": "https://localhost:8080/",
          "height": 357
        },
        "id": "16kRfat5JrGE",
        "outputId": "5ebe385c-4429-4dc1-80b8-675b83d03fa3"
      },
      "outputs": [
        {
          "data": {
            "text/html": [
              "<div>\n",
              "<style scoped>\n",
              "    .dataframe tbody tr th:only-of-type {\n",
              "        vertical-align: middle;\n",
              "    }\n",
              "\n",
              "    .dataframe tbody tr th {\n",
              "        vertical-align: top;\n",
              "    }\n",
              "\n",
              "    .dataframe thead th {\n",
              "        text-align: right;\n",
              "    }\n",
              "</style>\n",
              "<table border=\"1\" class=\"dataframe\">\n",
              "  <thead>\n",
              "    <tr style=\"text-align: right;\">\n",
              "      <th></th>\n",
              "      <th>0</th>\n",
              "      <th>1</th>\n",
              "      <th>2</th>\n",
              "      <th>3</th>\n",
              "      <th>4</th>\n",
              "      <th>5</th>\n",
              "      <th>6</th>\n",
              "      <th>7</th>\n",
              "      <th>8</th>\n",
              "      <th>9</th>\n",
              "      <th>10</th>\n",
              "      <th>11</th>\n",
              "      <th>12</th>\n",
              "      <th>13</th>\n",
              "      <th>14</th>\n",
              "    </tr>\n",
              "  </thead>\n",
              "  <tbody>\n",
              "    <tr>\n",
              "      <th>Grupo 0</th>\n",
              "      <td>account</td>\n",
              "      <td>check</td>\n",
              "      <td>money</td>\n",
              "      <td>bank</td>\n",
              "      <td>deposit</td>\n",
              "      <td>chase</td>\n",
              "      <td>fund</td>\n",
              "      <td>day</td>\n",
              "      <td>branch</td>\n",
              "      <td>transfer</td>\n",
              "      <td>number</td>\n",
              "      <td>business</td>\n",
              "      <td>transaction</td>\n",
              "      <td>customer</td>\n",
              "      <td>claim</td>\n",
              "    </tr>\n",
              "    <tr>\n",
              "      <th>Grupo 1</th>\n",
              "      <td>card</td>\n",
              "      <td>credit</td>\n",
              "      <td>chase</td>\n",
              "      <td>balance</td>\n",
              "      <td>account</td>\n",
              "      <td>score</td>\n",
              "      <td>limit</td>\n",
              "      <td>year</td>\n",
              "      <td>purchase</td>\n",
              "      <td>point</td>\n",
              "      <td>month</td>\n",
              "      <td>application</td>\n",
              "      <td>service</td>\n",
              "      <td>reason</td>\n",
              "      <td>time</td>\n",
              "    </tr>\n",
              "    <tr>\n",
              "      <th>Grupo 2</th>\n",
              "      <td>payment</td>\n",
              "      <td>loan</td>\n",
              "      <td>mortgage</td>\n",
              "      <td>chase</td>\n",
              "      <td>month</td>\n",
              "      <td>modification</td>\n",
              "      <td>time</td>\n",
              "      <td>home</td>\n",
              "      <td>pay</td>\n",
              "      <td>year</td>\n",
              "      <td>rate</td>\n",
              "      <td>balance</td>\n",
              "      <td>property</td>\n",
              "      <td>statement</td>\n",
              "      <td>date</td>\n",
              "    </tr>\n",
              "    <tr>\n",
              "      <th>Grupo 3</th>\n",
              "      <td>report</td>\n",
              "      <td>inquiry</td>\n",
              "      <td>credit</td>\n",
              "      <td>information</td>\n",
              "      <td>company</td>\n",
              "      <td>reporting</td>\n",
              "      <td>debt</td>\n",
              "      <td>account</td>\n",
              "      <td>file</td>\n",
              "      <td>identity</td>\n",
              "      <td>remove</td>\n",
              "      <td>dispute</td>\n",
              "      <td>theft</td>\n",
              "      <td>score</td>\n",
              "      <td>letter</td>\n",
              "    </tr>\n",
              "    <tr>\n",
              "      <th>Grupo 4</th>\n",
              "      <td>charge</td>\n",
              "      <td>dispute</td>\n",
              "      <td>fee</td>\n",
              "      <td>chase</td>\n",
              "      <td>transaction</td>\n",
              "      <td>merchant</td>\n",
              "      <td>claim</td>\n",
              "      <td>purchase</td>\n",
              "      <td>refund</td>\n",
              "      <td>fraud</td>\n",
              "      <td>service</td>\n",
              "      <td>email</td>\n",
              "      <td>time</td>\n",
              "      <td>contact</td>\n",
              "      <td>statement</td>\n",
              "    </tr>\n",
              "  </tbody>\n",
              "</table>\n",
              "</div>"
            ],
            "text/plain": [
              "               0        1         2            3            4             5  \\\n",
              "Grupo 0  account    check     money         bank      deposit         chase   \n",
              "Grupo 1     card   credit     chase      balance      account         score   \n",
              "Grupo 2  payment     loan  mortgage        chase        month  modification   \n",
              "Grupo 3   report  inquiry    credit  information      company     reporting   \n",
              "Grupo 4   charge  dispute       fee        chase  transaction      merchant   \n",
              "\n",
              "             6         7         8         9       10           11  \\\n",
              "Grupo 0   fund       day    branch  transfer   number     business   \n",
              "Grupo 1  limit      year  purchase     point    month  application   \n",
              "Grupo 2   time      home       pay      year     rate      balance   \n",
              "Grupo 3   debt   account      file  identity   remove      dispute   \n",
              "Grupo 4  claim  purchase    refund     fraud  service        email   \n",
              "\n",
              "                  12         13         14  \n",
              "Grupo 0  transaction   customer      claim  \n",
              "Grupo 1      service     reason       time  \n",
              "Grupo 2     property  statement       date  \n",
              "Grupo 3        theft      score     letter  \n",
              "Grupo 4         time    contact  statement  "
            ]
          },
          "execution_count": 42,
          "metadata": {},
          "output_type": "execute_result"
        }
      ],
      "source": [
        "# Top 15 palabras de cada uno de los topics\n",
        "words = np.array(tfidf.get_feature_names())\n",
        "topicos = pd.DataFrame(np.zeros((num_topics, 15)), index=[f'Grupo {i}' for i in range(num_topics)],columns=[f'{i}' for i in range(15)]).astype(str)\n",
        "for i in range(num_topics):\n",
        "    ix = H[i].argsort()[::-1][:15]\n",
        "    topicos.iloc[i] = words[ix]\n",
        "\n",
        "topicos.head(5)"
      ]
    },
    {
      "cell_type": "code",
      "execution_count": 43,
      "metadata": {
        "id": "0OIT7LmFJrGF"
      },
      "outputs": [],
      "source": [
        "# Crear el mejor topic para cada complaint en terminos de integer value 0,1,2,3 & 4\n",
        "bestTopics = nmf_model.transform(termMatrix)\n"
      ]
    },
    {
      "cell_type": "code",
      "execution_count": 44,
      "metadata": {
        "id": "peyYv-ORJrGF"
      },
      "outputs": [],
      "source": [
        "# Asignar el mejor topic a cada uno de los complaints en Topic Column\n",
        "df_clean['Topic'] = bestTopics.argmax(axis=1)"
      ]
    },
    {
      "cell_type": "code",
      "execution_count": 45,
      "metadata": {
        "colab": {
          "base_uri": "https://localhost:8080/",
          "height": 337
        },
        "id": "fLh_Gf3nJrGF",
        "outputId": "cb423e23-c755-4821-b6ec-22ecd06ce7fb"
      },
      "outputs": [
        {
          "data": {
            "text/html": [
              "<div>\n",
              "<style scoped>\n",
              "    .dataframe tbody tr th:only-of-type {\n",
              "        vertical-align: middle;\n",
              "    }\n",
              "\n",
              "    .dataframe tbody tr th {\n",
              "        vertical-align: top;\n",
              "    }\n",
              "\n",
              "    .dataframe thead th {\n",
              "        text-align: right;\n",
              "    }\n",
              "</style>\n",
              "<table border=\"1\" class=\"dataframe\">\n",
              "  <thead>\n",
              "    <tr style=\"text-align: right;\">\n",
              "      <th></th>\n",
              "      <th>complaint</th>\n",
              "      <th>lemma</th>\n",
              "      <th>complaint_POS_removed</th>\n",
              "      <th>Complaint_clean</th>\n",
              "      <th>Topic</th>\n",
              "    </tr>\n",
              "  </thead>\n",
              "  <tbody>\n",
              "    <tr>\n",
              "      <th>1</th>\n",
              "      <td>good morning my name is xxxx xxxx and i apprec...</td>\n",
              "      <td>good morning xxxx xxxx appreciate help stop ch...</td>\n",
              "      <td>morning help bank service chase debt verificat...</td>\n",
              "      <td>morning help bank service chase debt verificat...</td>\n",
              "      <td>0</td>\n",
              "    </tr>\n",
              "    <tr>\n",
              "      <th>2</th>\n",
              "      <td>i upgraded my xxxx xxxx card in and was told b...</td>\n",
              "      <td>upgrade xxxx xxxx card tell agent upgrade anni...</td>\n",
              "      <td>card agent upgrade anniversary date change age...</td>\n",
              "      <td>card agent upgrade anniversary date change age...</td>\n",
              "      <td>1</td>\n",
              "    </tr>\n",
              "    <tr>\n",
              "      <th>10</th>\n",
              "      <td>chase card was reported on however fraudulent ...</td>\n",
              "      <td>chase card report fraudulent application submi...</td>\n",
              "      <td>chase card report application submit identity ...</td>\n",
              "      <td>chase card report application submit identity ...</td>\n",
              "      <td>3</td>\n",
              "    </tr>\n",
              "    <tr>\n",
              "      <th>11</th>\n",
              "      <td>on while trying to book a xxxx  xxxx  ticket i...</td>\n",
              "      <td>try book xxxx   xxxx   ticket come offer apply...</td>\n",
              "      <td>book ticket come offer ticket reward card info...</td>\n",
              "      <td>book ticket come offer ticket reward card info...</td>\n",
              "      <td>3</td>\n",
              "    </tr>\n",
              "    <tr>\n",
              "      <th>14</th>\n",
              "      <td>my grand son give me check for i deposit it in...</td>\n",
              "      <td>grand son check deposit chase account fund cle...</td>\n",
              "      <td>son deposit chase account fund bank account pa...</td>\n",
              "      <td>son deposit chase account fund bank account pa...</td>\n",
              "      <td>0</td>\n",
              "    </tr>\n",
              "  </tbody>\n",
              "</table>\n",
              "</div>"
            ],
            "text/plain": [
              "                                            complaint  \\\n",
              "1   good morning my name is xxxx xxxx and i apprec...   \n",
              "2   i upgraded my xxxx xxxx card in and was told b...   \n",
              "10  chase card was reported on however fraudulent ...   \n",
              "11  on while trying to book a xxxx  xxxx  ticket i...   \n",
              "14  my grand son give me check for i deposit it in...   \n",
              "\n",
              "                                                lemma  \\\n",
              "1   good morning xxxx xxxx appreciate help stop ch...   \n",
              "2   upgrade xxxx xxxx card tell agent upgrade anni...   \n",
              "10  chase card report fraudulent application submi...   \n",
              "11  try book xxxx   xxxx   ticket come offer apply...   \n",
              "14  grand son check deposit chase account fund cle...   \n",
              "\n",
              "                                complaint_POS_removed  \\\n",
              "1   morning help bank service chase debt verificat...   \n",
              "2   card agent upgrade anniversary date change age...   \n",
              "10  chase card report application submit identity ...   \n",
              "11  book ticket come offer ticket reward card info...   \n",
              "14  son deposit chase account fund bank account pa...   \n",
              "\n",
              "                                      Complaint_clean  Topic  \n",
              "1   morning help bank service chase debt verificat...      0  \n",
              "2   card agent upgrade anniversary date change age...      1  \n",
              "10  chase card report application submit identity ...      3  \n",
              "11  book ticket come offer ticket reward card info...      3  \n",
              "14  son deposit chase account fund bank account pa...      0  "
            ]
          },
          "execution_count": 45,
          "metadata": {},
          "output_type": "execute_result"
        }
      ],
      "source": [
        "df_clean.head()"
      ]
    },
    {
      "cell_type": "code",
      "execution_count": 46,
      "metadata": {
        "colab": {
          "base_uri": "https://localhost:8080/",
          "height": 1000
        },
        "id": "aQKpufSPJrGG",
        "outputId": "cc7c22d7-66a5-45e5-c5b9-89179f63a92b"
      },
      "outputs": [
        {
          "data": {
            "text/html": [
              "<div>\n",
              "<style scoped>\n",
              "    .dataframe tbody tr th:only-of-type {\n",
              "        vertical-align: middle;\n",
              "    }\n",
              "\n",
              "    .dataframe tbody tr th {\n",
              "        vertical-align: top;\n",
              "    }\n",
              "\n",
              "    .dataframe thead th {\n",
              "        text-align: right;\n",
              "    }\n",
              "</style>\n",
              "<table border=\"1\" class=\"dataframe\">\n",
              "  <thead>\n",
              "    <tr style=\"text-align: right;\">\n",
              "      <th></th>\n",
              "      <th>complaint</th>\n",
              "      <th>lemma</th>\n",
              "      <th>complaint_POS_removed</th>\n",
              "      <th>Complaint_clean</th>\n",
              "      <th>Topic</th>\n",
              "    </tr>\n",
              "  </thead>\n",
              "  <tbody>\n",
              "    <tr>\n",
              "      <th>1</th>\n",
              "      <td>good morning my name is xxxx xxxx and i apprec...</td>\n",
              "      <td>good morning xxxx xxxx appreciate help stop ch...</td>\n",
              "      <td>morning help bank service chase debt verificat...</td>\n",
              "      <td>morning help bank service chase debt verificat...</td>\n",
              "      <td>0</td>\n",
              "    </tr>\n",
              "    <tr>\n",
              "      <th>24</th>\n",
              "      <td>mishandling of this account by chase auto and ...</td>\n",
              "      <td>mishandle account chase auto xxxx</td>\n",
              "      <td>mishandle account chase auto xxxx</td>\n",
              "      <td>mishandle account chase auto</td>\n",
              "      <td>0</td>\n",
              "    </tr>\n",
              "    <tr>\n",
              "      <th>17</th>\n",
              "      <td>with out notice jp morgan chase restricted my ...</td>\n",
              "      <td>notice jp morgan chase restrict account debit ...</td>\n",
              "      <td>account debit card branch customer service rep...</td>\n",
              "      <td>account debit card branch customer service rep...</td>\n",
              "      <td>0</td>\n",
              "    </tr>\n",
              "    <tr>\n",
              "      <th>14</th>\n",
              "      <td>my grand son give me check for i deposit it in...</td>\n",
              "      <td>grand son check deposit chase account fund cle...</td>\n",
              "      <td>son deposit chase account fund bank account pa...</td>\n",
              "      <td>son deposit chase account fund bank account pa...</td>\n",
              "      <td>0</td>\n",
              "    </tr>\n",
              "    <tr>\n",
              "      <th>27</th>\n",
              "      <td>i opened an account with chase bank on xxxx an...</td>\n",
              "      <td>open account chase bank xxxx code xxxx bonus c...</td>\n",
              "      <td>account follow xxxxxxxx term account xxxx depo...</td>\n",
              "      <td>account follow  term account  deposit bonus pa...</td>\n",
              "      <td>0</td>\n",
              "    </tr>\n",
              "    <tr>\n",
              "      <th>32</th>\n",
              "      <td>my chase amazon card was declined for a cateri...</td>\n",
              "      <td>chase amazon card decline catering order place...</td>\n",
              "      <td>catering order place brother contact chase noo...</td>\n",
              "      <td>catering order place brother contact chase noo...</td>\n",
              "      <td>1</td>\n",
              "    </tr>\n",
              "    <tr>\n",
              "      <th>59</th>\n",
              "      <td>i currently have over xxxx chase ultimate rewa...</td>\n",
              "      <td>currently xxxx chase ultimate reward point wor...</td>\n",
              "      <td>xxxx reward point month access chase reward ac...</td>\n",
              "      <td>reward point month access chase reward accoun...</td>\n",
              "      <td>1</td>\n",
              "    </tr>\n",
              "    <tr>\n",
              "      <th>52</th>\n",
              "      <td>my roommate was stealing my chase debit card a...</td>\n",
              "      <td>roommate steal chase debit card driver license...</td>\n",
              "      <td>roommate chase debit card driver license money...</td>\n",
              "      <td>roommate chase debit card driver license money...</td>\n",
              "      <td>1</td>\n",
              "    </tr>\n",
              "    <tr>\n",
              "      <th>2</th>\n",
              "      <td>i upgraded my xxxx xxxx card in and was told b...</td>\n",
              "      <td>upgrade xxxx xxxx card tell agent upgrade anni...</td>\n",
              "      <td>card agent upgrade anniversary date change age...</td>\n",
              "      <td>card agent upgrade anniversary date change age...</td>\n",
              "      <td>1</td>\n",
              "    </tr>\n",
              "    <tr>\n",
              "      <th>50</th>\n",
              "      <td>i am a senior citizen that has been scammed by...</td>\n",
              "      <td>senior citizen scamme company xxxx xxxx pay ti...</td>\n",
              "      <td>citizen time share company misleading refund c...</td>\n",
              "      <td>citizen time share company misleading refund c...</td>\n",
              "      <td>1</td>\n",
              "    </tr>\n",
              "    <tr>\n",
              "      <th>58</th>\n",
              "      <td>i made a purchase of on xxxxxxxx i made paymen...</td>\n",
              "      <td>purchase xxxxxxxx payment xxxxxxxx xxxxxxxx mi...</td>\n",
              "      <td>xxxxxxxx payment xxxxxxxx payment closing date...</td>\n",
              "      <td>payment  payment closing date  statement stat...</td>\n",
              "      <td>2</td>\n",
              "    </tr>\n",
              "    <tr>\n",
              "      <th>57</th>\n",
              "      <td>i have been trying to do a loan modification w...</td>\n",
              "      <td>try loan modification chase runaround m mo not...</td>\n",
              "      <td>loan modification chase payment</td>\n",
              "      <td>loan modification chase payment</td>\n",
              "      <td>2</td>\n",
              "    </tr>\n",
              "    <tr>\n",
              "      <th>81</th>\n",
              "      <td>i bought a new xxxx xxxx on xxxxxxxx from xxxx...</td>\n",
              "      <td>buy new xxxx xxxx xxxxxxxx xxxx xxxx xxxx xxxx...</td>\n",
              "      <td>loan release title contact chase time resoluti...</td>\n",
              "      <td>loan release title contact chase time resoluti...</td>\n",
              "      <td>2</td>\n",
              "    </tr>\n",
              "    <tr>\n",
              "      <th>20</th>\n",
              "      <td>during the summer months i experience a declin...</td>\n",
              "      <td>summer month experience decline income employm...</td>\n",
              "      <td>summer month experience income employment requ...</td>\n",
              "      <td>summer month experience income employment requ...</td>\n",
              "      <td>2</td>\n",
              "    </tr>\n",
              "    <tr>\n",
              "      <th>73</th>\n",
              "      <td>i have wired through one of chase branches in ...</td>\n",
              "      <td>wire chase branch xxxx xxxx exact reinstatemen...</td>\n",
              "      <td>wire chase branch reinstatement order foreclos...</td>\n",
              "      <td>wire chase branch reinstatement order foreclos...</td>\n",
              "      <td>2</td>\n",
              "    </tr>\n",
              "    <tr>\n",
              "      <th>11</th>\n",
              "      <td>on while trying to book a xxxx  xxxx  ticket i...</td>\n",
              "      <td>try book xxxx   xxxx   ticket come offer apply...</td>\n",
              "      <td>book ticket come offer ticket reward card info...</td>\n",
              "      <td>book ticket come offer ticket reward card info...</td>\n",
              "      <td>3</td>\n",
              "    </tr>\n",
              "    <tr>\n",
              "      <th>26</th>\n",
              "      <td>i have reached out to xxxx several times in at...</td>\n",
              "      <td>reach xxxx time attempt fraudulent inquiry rem...</td>\n",
              "      <td>time attempt inquiry remove need contact credi...</td>\n",
              "      <td>time attempt inquiry remove need contact credi...</td>\n",
              "      <td>3</td>\n",
              "    </tr>\n",
              "    <tr>\n",
              "      <th>23</th>\n",
              "      <td>i have a chase credit card which is incorrectl...</td>\n",
              "      <td>chase credit card incorrectly report datum cre...</td>\n",
              "      <td>chase credit card datum credit report company ...</td>\n",
              "      <td>chase credit card datum credit report company ...</td>\n",
              "      <td>3</td>\n",
              "    </tr>\n",
              "    <tr>\n",
              "      <th>10</th>\n",
              "      <td>chase card was reported on however fraudulent ...</td>\n",
              "      <td>chase card report fraudulent application submi...</td>\n",
              "      <td>chase card report application submit identity ...</td>\n",
              "      <td>chase card report application submit identity ...</td>\n",
              "      <td>3</td>\n",
              "    </tr>\n",
              "    <tr>\n",
              "      <th>15</th>\n",
              "      <td>can you please remove inquiry</td>\n",
              "      <td>remove inquiry</td>\n",
              "      <td>inquiry</td>\n",
              "      <td>inquiry</td>\n",
              "      <td>3</td>\n",
              "    </tr>\n",
              "    <tr>\n",
              "      <th>30</th>\n",
              "      <td>to whom it may concern chase bank charged wron...</td>\n",
              "      <td>concern chase bank charge wrongly overdraft fe...</td>\n",
              "      <td>concern bank overdraft fee alert balance fee b...</td>\n",
              "      <td>concern bank overdraft fee alert balance fee b...</td>\n",
              "      <td>4</td>\n",
              "    </tr>\n",
              "    <tr>\n",
              "      <th>40</th>\n",
              "      <td>xxxx xxxx a sofa love seat table and chairs an...</td>\n",
              "      <td>xxxx xxxx sofa love seat table chair deliver d...</td>\n",
              "      <td>seat table chair deliver debit card charge ban...</td>\n",
              "      <td>seat table chair deliver debit card charge ban...</td>\n",
              "      <td>4</td>\n",
              "    </tr>\n",
              "    <tr>\n",
              "      <th>45</th>\n",
              "      <td>i made a purchase with xxxx xxxx xxxx on in th...</td>\n",
              "      <td>purchase xxxx xxxx xxxx charge twice transacti...</td>\n",
              "      <td>xxxx transaction place dispute case chase bank...</td>\n",
              "      <td>transaction place dispute case chase bank not...</td>\n",
              "      <td>4</td>\n",
              "    </tr>\n",
              "    <tr>\n",
              "      <th>48</th>\n",
              "      <td>jp morgan chase bank please answer the followi...</td>\n",
              "      <td>jp morgan chase bank answer follow question   ...</td>\n",
              "      <td>answer follow question xxxxxxxx information xx...</td>\n",
              "      <td>answer follow question  information   reason a...</td>\n",
              "      <td>4</td>\n",
              "    </tr>\n",
              "    <tr>\n",
              "      <th>21</th>\n",
              "      <td>on xxxx i made a payment to an online retailer...</td>\n",
              "      <td>xxxx payment online retailer chase quick pay x...</td>\n",
              "      <td>xxxx payment retailer chase pay website scam w...</td>\n",
              "      <td>payment retailer chase pay website scam websi...</td>\n",
              "      <td>4</td>\n",
              "    </tr>\n",
              "  </tbody>\n",
              "</table>\n",
              "</div>"
            ],
            "text/plain": [
              "                                            complaint  \\\n",
              "1   good morning my name is xxxx xxxx and i apprec...   \n",
              "24  mishandling of this account by chase auto and ...   \n",
              "17  with out notice jp morgan chase restricted my ...   \n",
              "14  my grand son give me check for i deposit it in...   \n",
              "27  i opened an account with chase bank on xxxx an...   \n",
              "32  my chase amazon card was declined for a cateri...   \n",
              "59  i currently have over xxxx chase ultimate rewa...   \n",
              "52  my roommate was stealing my chase debit card a...   \n",
              "2   i upgraded my xxxx xxxx card in and was told b...   \n",
              "50  i am a senior citizen that has been scammed by...   \n",
              "58  i made a purchase of on xxxxxxxx i made paymen...   \n",
              "57  i have been trying to do a loan modification w...   \n",
              "81  i bought a new xxxx xxxx on xxxxxxxx from xxxx...   \n",
              "20  during the summer months i experience a declin...   \n",
              "73  i have wired through one of chase branches in ...   \n",
              "11  on while trying to book a xxxx  xxxx  ticket i...   \n",
              "26  i have reached out to xxxx several times in at...   \n",
              "23  i have a chase credit card which is incorrectl...   \n",
              "10  chase card was reported on however fraudulent ...   \n",
              "15                      can you please remove inquiry   \n",
              "30  to whom it may concern chase bank charged wron...   \n",
              "40  xxxx xxxx a sofa love seat table and chairs an...   \n",
              "45  i made a purchase with xxxx xxxx xxxx on in th...   \n",
              "48  jp morgan chase bank please answer the followi...   \n",
              "21  on xxxx i made a payment to an online retailer...   \n",
              "\n",
              "                                                lemma  \\\n",
              "1   good morning xxxx xxxx appreciate help stop ch...   \n",
              "24                  mishandle account chase auto xxxx   \n",
              "17  notice jp morgan chase restrict account debit ...   \n",
              "14  grand son check deposit chase account fund cle...   \n",
              "27  open account chase bank xxxx code xxxx bonus c...   \n",
              "32  chase amazon card decline catering order place...   \n",
              "59  currently xxxx chase ultimate reward point wor...   \n",
              "52  roommate steal chase debit card driver license...   \n",
              "2   upgrade xxxx xxxx card tell agent upgrade anni...   \n",
              "50  senior citizen scamme company xxxx xxxx pay ti...   \n",
              "58  purchase xxxxxxxx payment xxxxxxxx xxxxxxxx mi...   \n",
              "57  try loan modification chase runaround m mo not...   \n",
              "81  buy new xxxx xxxx xxxxxxxx xxxx xxxx xxxx xxxx...   \n",
              "20  summer month experience decline income employm...   \n",
              "73  wire chase branch xxxx xxxx exact reinstatemen...   \n",
              "11  try book xxxx   xxxx   ticket come offer apply...   \n",
              "26  reach xxxx time attempt fraudulent inquiry rem...   \n",
              "23  chase credit card incorrectly report datum cre...   \n",
              "10  chase card report fraudulent application submi...   \n",
              "15                                     remove inquiry   \n",
              "30  concern chase bank charge wrongly overdraft fe...   \n",
              "40  xxxx xxxx sofa love seat table chair deliver d...   \n",
              "45  purchase xxxx xxxx xxxx charge twice transacti...   \n",
              "48  jp morgan chase bank answer follow question   ...   \n",
              "21  xxxx payment online retailer chase quick pay x...   \n",
              "\n",
              "                                complaint_POS_removed  \\\n",
              "1   morning help bank service chase debt verificat...   \n",
              "24                  mishandle account chase auto xxxx   \n",
              "17  account debit card branch customer service rep...   \n",
              "14  son deposit chase account fund bank account pa...   \n",
              "27  account follow xxxxxxxx term account xxxx depo...   \n",
              "32  catering order place brother contact chase noo...   \n",
              "59  xxxx reward point month access chase reward ac...   \n",
              "52  roommate chase debit card driver license money...   \n",
              "2   card agent upgrade anniversary date change age...   \n",
              "50  citizen time share company misleading refund c...   \n",
              "58  xxxxxxxx payment xxxxxxxx payment closing date...   \n",
              "57                    loan modification chase payment   \n",
              "81  loan release title contact chase time resoluti...   \n",
              "20  summer month experience income employment requ...   \n",
              "73  wire chase branch reinstatement order foreclos...   \n",
              "11  book ticket come offer ticket reward card info...   \n",
              "26  time attempt inquiry remove need contact credi...   \n",
              "23  chase credit card datum credit report company ...   \n",
              "10  chase card report application submit identity ...   \n",
              "15                                            inquiry   \n",
              "30  concern bank overdraft fee alert balance fee b...   \n",
              "40  seat table chair deliver debit card charge ban...   \n",
              "45  xxxx transaction place dispute case chase bank...   \n",
              "48  answer follow question xxxxxxxx information xx...   \n",
              "21  xxxx payment retailer chase pay website scam w...   \n",
              "\n",
              "                                      Complaint_clean  Topic  \n",
              "1   morning help bank service chase debt verificat...      0  \n",
              "24                      mishandle account chase auto       0  \n",
              "17  account debit card branch customer service rep...      0  \n",
              "14  son deposit chase account fund bank account pa...      0  \n",
              "27  account follow  term account  deposit bonus pa...      0  \n",
              "32  catering order place brother contact chase noo...      1  \n",
              "59   reward point month access chase reward accoun...      1  \n",
              "52  roommate chase debit card driver license money...      1  \n",
              "2   card agent upgrade anniversary date change age...      1  \n",
              "50  citizen time share company misleading refund c...      1  \n",
              "58   payment  payment closing date  statement stat...      2  \n",
              "57                    loan modification chase payment      2  \n",
              "81  loan release title contact chase time resoluti...      2  \n",
              "20  summer month experience income employment requ...      2  \n",
              "73  wire chase branch reinstatement order foreclos...      2  \n",
              "11  book ticket come offer ticket reward card info...      3  \n",
              "26  time attempt inquiry remove need contact credi...      3  \n",
              "23  chase credit card datum credit report company ...      3  \n",
              "10  chase card report application submit identity ...      3  \n",
              "15                                            inquiry      3  \n",
              "30  concern bank overdraft fee alert balance fee b...      4  \n",
              "40  seat table chair deliver debit card charge ban...      4  \n",
              "45   transaction place dispute case chase bank not...      4  \n",
              "48  answer follow question  information   reason a...      4  \n",
              "21   payment retailer chase pay website scam websi...      4  "
            ]
          },
          "execution_count": 46,
          "metadata": {},
          "output_type": "execute_result"
        }
      ],
      "source": [
        "# Imprimir los 5 Complaint para casa Topic\n",
        "df_clean_5first=df_clean.groupby('Topic').head(5)\n",
        "df_clean_5first.sort_values('Topic').head(25)"
      ]
    },
    {
      "cell_type": "markdown",
      "metadata": {
        "id": "piyLxzj6v07j"
      },
      "source": [
        "### **Después de evaluar el mapeo, se asigna estos nombres al tema** relevante:\n",
        "* Servicios de cuenta bancaria\n",
        "* Tarjeta de crédito o tarjeta prepago\n",
        "* Informe de robo/disputa\n",
        "* Préstamo hipotecario\n",
        "* Otros"
      ]
    },
    {
      "cell_type": "code",
      "execution_count": 47,
      "metadata": {
        "id": "TWpwDG4RJrGG"
      },
      "outputs": [],
      "source": [
        "# Creación de un diccionario de Topic Names y Topics\n",
        "Topic_names = {0:\"Servicios de Cuentas de Banco\", 1:\"Tarjetas de Credito / Tarjetas Prepagadas\", 2:\"Otros\",3:\"Reportes de Robos\", 4:\"Ptmos Hipotecarios y Otros Ptmos\"}\n",
        "# Reemplazo de Topic Names con Topics\n",
        "df_clean['Topic'] = df_clean['Topic'].map(Topic_names)"
      ]
    },
    {
      "cell_type": "code",
      "execution_count": 48,
      "metadata": {
        "colab": {
          "base_uri": "https://localhost:8080/",
          "height": 641
        },
        "id": "-2ULY5K6JrGG",
        "outputId": "6a59308c-2ab8-4da8-eb9f-259c05637400"
      },
      "outputs": [
        {
          "data": {
            "text/html": [
              "<div>\n",
              "<style scoped>\n",
              "    .dataframe tbody tr th:only-of-type {\n",
              "        vertical-align: middle;\n",
              "    }\n",
              "\n",
              "    .dataframe tbody tr th {\n",
              "        vertical-align: top;\n",
              "    }\n",
              "\n",
              "    .dataframe thead th {\n",
              "        text-align: right;\n",
              "    }\n",
              "</style>\n",
              "<table border=\"1\" class=\"dataframe\">\n",
              "  <thead>\n",
              "    <tr style=\"text-align: right;\">\n",
              "      <th></th>\n",
              "      <th>complaint</th>\n",
              "      <th>lemma</th>\n",
              "      <th>complaint_POS_removed</th>\n",
              "      <th>Complaint_clean</th>\n",
              "      <th>Topic</th>\n",
              "    </tr>\n",
              "  </thead>\n",
              "  <tbody>\n",
              "    <tr>\n",
              "      <th>1</th>\n",
              "      <td>good morning my name is xxxx xxxx and i apprec...</td>\n",
              "      <td>good morning xxxx xxxx appreciate help stop ch...</td>\n",
              "      <td>morning help bank service chase debt verificat...</td>\n",
              "      <td>morning help bank service chase debt verificat...</td>\n",
              "      <td>Servicios de Cuentas de Banco</td>\n",
              "    </tr>\n",
              "    <tr>\n",
              "      <th>2</th>\n",
              "      <td>i upgraded my xxxx xxxx card in and was told b...</td>\n",
              "      <td>upgrade xxxx xxxx card tell agent upgrade anni...</td>\n",
              "      <td>card agent upgrade anniversary date change age...</td>\n",
              "      <td>card agent upgrade anniversary date change age...</td>\n",
              "      <td>Tarjetas de Credito / Tarjetas Prepagadas</td>\n",
              "    </tr>\n",
              "    <tr>\n",
              "      <th>10</th>\n",
              "      <td>chase card was reported on however fraudulent ...</td>\n",
              "      <td>chase card report fraudulent application submi...</td>\n",
              "      <td>chase card report application submit identity ...</td>\n",
              "      <td>chase card report application submit identity ...</td>\n",
              "      <td>Reportes de Robos</td>\n",
              "    </tr>\n",
              "    <tr>\n",
              "      <th>11</th>\n",
              "      <td>on while trying to book a xxxx  xxxx  ticket i...</td>\n",
              "      <td>try book xxxx   xxxx   ticket come offer apply...</td>\n",
              "      <td>book ticket come offer ticket reward card info...</td>\n",
              "      <td>book ticket come offer ticket reward card info...</td>\n",
              "      <td>Reportes de Robos</td>\n",
              "    </tr>\n",
              "    <tr>\n",
              "      <th>14</th>\n",
              "      <td>my grand son give me check for i deposit it in...</td>\n",
              "      <td>grand son check deposit chase account fund cle...</td>\n",
              "      <td>son deposit chase account fund bank account pa...</td>\n",
              "      <td>son deposit chase account fund bank account pa...</td>\n",
              "      <td>Servicios de Cuentas de Banco</td>\n",
              "    </tr>\n",
              "    <tr>\n",
              "      <th>...</th>\n",
              "      <td>...</td>\n",
              "      <td>...</td>\n",
              "      <td>...</td>\n",
              "      <td>...</td>\n",
              "      <td>...</td>\n",
              "    </tr>\n",
              "    <tr>\n",
              "      <th>78303</th>\n",
              "      <td>after being a chase card customer for well ove...</td>\n",
              "      <td>chase card customer decade offer multiple soli...</td>\n",
              "      <td>chase card customer decade solicitation credit...</td>\n",
              "      <td>chase card customer decade solicitation credit...</td>\n",
              "      <td>Tarjetas de Credito / Tarjetas Prepagadas</td>\n",
              "    </tr>\n",
              "    <tr>\n",
              "      <th>78309</th>\n",
              "      <td>on wednesday xxxxxxxx i called chas my xxxx xx...</td>\n",
              "      <td>wednesday xxxxxxxx call chas xxxx xxxx visa cr...</td>\n",
              "      <td>credit card provider ask claim purchase protec...</td>\n",
              "      <td>credit card provider ask claim purchase protec...</td>\n",
              "      <td>Ptmos Hipotecarios y Otros Ptmos</td>\n",
              "    </tr>\n",
              "    <tr>\n",
              "      <th>78310</th>\n",
              "      <td>i am not familiar with xxxx pay and did not un...</td>\n",
              "      <td>familiar xxxx pay understand great risk provid...</td>\n",
              "      <td>xxxx risk consumer year trust mobile banking t...</td>\n",
              "      <td>risk consumer year trust mobile banking tell ...</td>\n",
              "      <td>Reportes de Robos</td>\n",
              "    </tr>\n",
              "    <tr>\n",
              "      <th>78311</th>\n",
              "      <td>i have had flawless credit for yrs ive had cha...</td>\n",
              "      <td>flawless credit yrs ve chase credit card   cha...</td>\n",
              "      <td>credit yrs credit card chase freedom problem t...</td>\n",
              "      <td>credit yrs credit card chase freedom problem t...</td>\n",
              "      <td>Tarjetas de Credito / Tarjetas Prepagadas</td>\n",
              "    </tr>\n",
              "    <tr>\n",
              "      <th>78312</th>\n",
              "      <td>roughly years ago i closed out my accounts wit...</td>\n",
              "      <td>roughly year ago close account jp morgan chase...</td>\n",
              "      <td>year account order line credit account payment...</td>\n",
              "      <td>year account order line credit account payment...</td>\n",
              "      <td>Otros</td>\n",
              "    </tr>\n",
              "  </tbody>\n",
              "</table>\n",
              "<p>21072 rows × 5 columns</p>\n",
              "</div>"
            ],
            "text/plain": [
              "                                               complaint  \\\n",
              "1      good morning my name is xxxx xxxx and i apprec...   \n",
              "2      i upgraded my xxxx xxxx card in and was told b...   \n",
              "10     chase card was reported on however fraudulent ...   \n",
              "11     on while trying to book a xxxx  xxxx  ticket i...   \n",
              "14     my grand son give me check for i deposit it in...   \n",
              "...                                                  ...   \n",
              "78303  after being a chase card customer for well ove...   \n",
              "78309  on wednesday xxxxxxxx i called chas my xxxx xx...   \n",
              "78310  i am not familiar with xxxx pay and did not un...   \n",
              "78311  i have had flawless credit for yrs ive had cha...   \n",
              "78312  roughly years ago i closed out my accounts wit...   \n",
              "\n",
              "                                                   lemma  \\\n",
              "1      good morning xxxx xxxx appreciate help stop ch...   \n",
              "2      upgrade xxxx xxxx card tell agent upgrade anni...   \n",
              "10     chase card report fraudulent application submi...   \n",
              "11     try book xxxx   xxxx   ticket come offer apply...   \n",
              "14     grand son check deposit chase account fund cle...   \n",
              "...                                                  ...   \n",
              "78303  chase card customer decade offer multiple soli...   \n",
              "78309  wednesday xxxxxxxx call chas xxxx xxxx visa cr...   \n",
              "78310  familiar xxxx pay understand great risk provid...   \n",
              "78311  flawless credit yrs ve chase credit card   cha...   \n",
              "78312  roughly year ago close account jp morgan chase...   \n",
              "\n",
              "                                   complaint_POS_removed  \\\n",
              "1      morning help bank service chase debt verificat...   \n",
              "2      card agent upgrade anniversary date change age...   \n",
              "10     chase card report application submit identity ...   \n",
              "11     book ticket come offer ticket reward card info...   \n",
              "14     son deposit chase account fund bank account pa...   \n",
              "...                                                  ...   \n",
              "78303  chase card customer decade solicitation credit...   \n",
              "78309  credit card provider ask claim purchase protec...   \n",
              "78310  xxxx risk consumer year trust mobile banking t...   \n",
              "78311  credit yrs credit card chase freedom problem t...   \n",
              "78312  year account order line credit account payment...   \n",
              "\n",
              "                                         Complaint_clean  \\\n",
              "1      morning help bank service chase debt verificat...   \n",
              "2      card agent upgrade anniversary date change age...   \n",
              "10     chase card report application submit identity ...   \n",
              "11     book ticket come offer ticket reward card info...   \n",
              "14     son deposit chase account fund bank account pa...   \n",
              "...                                                  ...   \n",
              "78303  chase card customer decade solicitation credit...   \n",
              "78309  credit card provider ask claim purchase protec...   \n",
              "78310   risk consumer year trust mobile banking tell ...   \n",
              "78311  credit yrs credit card chase freedom problem t...   \n",
              "78312  year account order line credit account payment...   \n",
              "\n",
              "                                           Topic  \n",
              "1                  Servicios de Cuentas de Banco  \n",
              "2      Tarjetas de Credito / Tarjetas Prepagadas  \n",
              "10                             Reportes de Robos  \n",
              "11                             Reportes de Robos  \n",
              "14                 Servicios de Cuentas de Banco  \n",
              "...                                          ...  \n",
              "78303  Tarjetas de Credito / Tarjetas Prepagadas  \n",
              "78309           Ptmos Hipotecarios y Otros Ptmos  \n",
              "78310                          Reportes de Robos  \n",
              "78311  Tarjetas de Credito / Tarjetas Prepagadas  \n",
              "78312                                      Otros  \n",
              "\n",
              "[21072 rows x 5 columns]"
            ]
          },
          "execution_count": 48,
          "metadata": {},
          "output_type": "execute_result"
        }
      ],
      "source": [
        "df_clean"
      ]
    },
    {
      "cell_type": "markdown",
      "metadata": {
        "id": "7Mu0QBOcJrGH"
      },
      "source": [
        "# **7. Modelo supervisado para predecir cualquier queja nueva a los temas relevantes.**\n"
      ]
    },
    {
      "cell_type": "markdown",
      "metadata": {
        "id": "ZccSd1LE88rl"
      },
      "source": [
        "Hasta ahora ha creado el modelo para crear los temas para cada queja. Entonces, en la siguiente sección, los utilizará para clasificar cualquier queja nueva.\n",
        "\n",
        "Dado que utilizará la técnica de aprendizaje supervisado, tenemos que convertir los nombres de los temas en números (las matrices numpy solo entienden los números)"
      ]
    },
    {
      "cell_type": "code",
      "execution_count": 49,
      "metadata": {
        "id": "_U8J3J8wJrGH"
      },
      "outputs": [],
      "source": [
        "# Crear un diccionario otra vez para Topic names y Topics\n",
        "\n",
        "Topic_names = {  \"Servicios de Cuentas de Banco\":0, \"Tarjetas de Credito / Tarjetas Prepagadas\":1, \"Otros\":2,\n",
        "               \"Reportes de Robos\":3, \"Ptmos Hipotecarios y Otros Ptmos\":4  }\n",
        "\n",
        "# Reemplazar Topics con Topic Names\n",
        "df_clean['Topic'] = df_clean['Topic'].map(Topic_names)"
      ]
    },
    {
      "cell_type": "code",
      "execution_count": 50,
      "metadata": {
        "colab": {
          "base_uri": "https://localhost:8080/",
          "height": 239
        },
        "id": "BWIgJUkQJrGH",
        "outputId": "e06370ee-42a1-4d25-d8e5-9f332ca713cc"
      },
      "outputs": [
        {
          "data": {
            "text/html": [
              "<div>\n",
              "<style scoped>\n",
              "    .dataframe tbody tr th:only-of-type {\n",
              "        vertical-align: middle;\n",
              "    }\n",
              "\n",
              "    .dataframe tbody tr th {\n",
              "        vertical-align: top;\n",
              "    }\n",
              "\n",
              "    .dataframe thead th {\n",
              "        text-align: right;\n",
              "    }\n",
              "</style>\n",
              "<table border=\"1\" class=\"dataframe\">\n",
              "  <thead>\n",
              "    <tr style=\"text-align: right;\">\n",
              "      <th></th>\n",
              "      <th>complaint</th>\n",
              "      <th>lemma</th>\n",
              "      <th>complaint_POS_removed</th>\n",
              "      <th>Complaint_clean</th>\n",
              "      <th>Topic</th>\n",
              "    </tr>\n",
              "  </thead>\n",
              "  <tbody>\n",
              "    <tr>\n",
              "      <th>1</th>\n",
              "      <td>good morning my name is xxxx xxxx and i apprec...</td>\n",
              "      <td>good morning xxxx xxxx appreciate help stop ch...</td>\n",
              "      <td>morning help bank service chase debt verificat...</td>\n",
              "      <td>morning help bank service chase debt verificat...</td>\n",
              "      <td>0</td>\n",
              "    </tr>\n",
              "    <tr>\n",
              "      <th>2</th>\n",
              "      <td>i upgraded my xxxx xxxx card in and was told b...</td>\n",
              "      <td>upgrade xxxx xxxx card tell agent upgrade anni...</td>\n",
              "      <td>card agent upgrade anniversary date change age...</td>\n",
              "      <td>card agent upgrade anniversary date change age...</td>\n",
              "      <td>1</td>\n",
              "    </tr>\n",
              "    <tr>\n",
              "      <th>10</th>\n",
              "      <td>chase card was reported on however fraudulent ...</td>\n",
              "      <td>chase card report fraudulent application submi...</td>\n",
              "      <td>chase card report application submit identity ...</td>\n",
              "      <td>chase card report application submit identity ...</td>\n",
              "      <td>3</td>\n",
              "    </tr>\n",
              "  </tbody>\n",
              "</table>\n",
              "</div>"
            ],
            "text/plain": [
              "                                            complaint  \\\n",
              "1   good morning my name is xxxx xxxx and i apprec...   \n",
              "2   i upgraded my xxxx xxxx card in and was told b...   \n",
              "10  chase card was reported on however fraudulent ...   \n",
              "\n",
              "                                                lemma  \\\n",
              "1   good morning xxxx xxxx appreciate help stop ch...   \n",
              "2   upgrade xxxx xxxx card tell agent upgrade anni...   \n",
              "10  chase card report fraudulent application submi...   \n",
              "\n",
              "                                complaint_POS_removed  \\\n",
              "1   morning help bank service chase debt verificat...   \n",
              "2   card agent upgrade anniversary date change age...   \n",
              "10  chase card report application submit identity ...   \n",
              "\n",
              "                                      Complaint_clean  Topic  \n",
              "1   morning help bank service chase debt verificat...      0  \n",
              "2   card agent upgrade anniversary date change age...      1  \n",
              "10  chase card report application submit identity ...      3  "
            ]
          },
          "execution_count": 50,
          "metadata": {},
          "output_type": "execute_result"
        }
      ],
      "source": [
        "df_clean.head(3)"
      ]
    },
    {
      "cell_type": "code",
      "execution_count": 51,
      "metadata": {
        "id": "Xx-FrbkWJrGH"
      },
      "outputs": [],
      "source": [
        "# Mantener las columnas \"complaint_what_happened\" & \"Topic\" solo en el nuevo dataframe --> training_data\n",
        "training_data=df_clean[['complaint', 'Topic']]"
      ]
    },
    {
      "cell_type": "code",
      "execution_count": 52,
      "metadata": {
        "colab": {
          "base_uri": "https://localhost:8080/",
          "height": 423
        },
        "id": "lVg2pa12JrGI",
        "outputId": "c4cf3e60-66f1-4f40-d79b-6ed5416401d6"
      },
      "outputs": [
        {
          "data": {
            "text/html": [
              "<div>\n",
              "<style scoped>\n",
              "    .dataframe tbody tr th:only-of-type {\n",
              "        vertical-align: middle;\n",
              "    }\n",
              "\n",
              "    .dataframe tbody tr th {\n",
              "        vertical-align: top;\n",
              "    }\n",
              "\n",
              "    .dataframe thead th {\n",
              "        text-align: right;\n",
              "    }\n",
              "</style>\n",
              "<table border=\"1\" class=\"dataframe\">\n",
              "  <thead>\n",
              "    <tr style=\"text-align: right;\">\n",
              "      <th></th>\n",
              "      <th>complaint</th>\n",
              "      <th>Topic</th>\n",
              "    </tr>\n",
              "  </thead>\n",
              "  <tbody>\n",
              "    <tr>\n",
              "      <th>1</th>\n",
              "      <td>good morning my name is xxxx xxxx and i apprec...</td>\n",
              "      <td>0</td>\n",
              "    </tr>\n",
              "    <tr>\n",
              "      <th>2</th>\n",
              "      <td>i upgraded my xxxx xxxx card in and was told b...</td>\n",
              "      <td>1</td>\n",
              "    </tr>\n",
              "    <tr>\n",
              "      <th>10</th>\n",
              "      <td>chase card was reported on however fraudulent ...</td>\n",
              "      <td>3</td>\n",
              "    </tr>\n",
              "    <tr>\n",
              "      <th>11</th>\n",
              "      <td>on while trying to book a xxxx  xxxx  ticket i...</td>\n",
              "      <td>3</td>\n",
              "    </tr>\n",
              "    <tr>\n",
              "      <th>14</th>\n",
              "      <td>my grand son give me check for i deposit it in...</td>\n",
              "      <td>0</td>\n",
              "    </tr>\n",
              "    <tr>\n",
              "      <th>...</th>\n",
              "      <td>...</td>\n",
              "      <td>...</td>\n",
              "    </tr>\n",
              "    <tr>\n",
              "      <th>78303</th>\n",
              "      <td>after being a chase card customer for well ove...</td>\n",
              "      <td>1</td>\n",
              "    </tr>\n",
              "    <tr>\n",
              "      <th>78309</th>\n",
              "      <td>on wednesday xxxxxxxx i called chas my xxxx xx...</td>\n",
              "      <td>4</td>\n",
              "    </tr>\n",
              "    <tr>\n",
              "      <th>78310</th>\n",
              "      <td>i am not familiar with xxxx pay and did not un...</td>\n",
              "      <td>3</td>\n",
              "    </tr>\n",
              "    <tr>\n",
              "      <th>78311</th>\n",
              "      <td>i have had flawless credit for yrs ive had cha...</td>\n",
              "      <td>1</td>\n",
              "    </tr>\n",
              "    <tr>\n",
              "      <th>78312</th>\n",
              "      <td>roughly years ago i closed out my accounts wit...</td>\n",
              "      <td>2</td>\n",
              "    </tr>\n",
              "  </tbody>\n",
              "</table>\n",
              "<p>21072 rows × 2 columns</p>\n",
              "</div>"
            ],
            "text/plain": [
              "                                               complaint  Topic\n",
              "1      good morning my name is xxxx xxxx and i apprec...      0\n",
              "2      i upgraded my xxxx xxxx card in and was told b...      1\n",
              "10     chase card was reported on however fraudulent ...      3\n",
              "11     on while trying to book a xxxx  xxxx  ticket i...      3\n",
              "14     my grand son give me check for i deposit it in...      0\n",
              "...                                                  ...    ...\n",
              "78303  after being a chase card customer for well ove...      1\n",
              "78309  on wednesday xxxxxxxx i called chas my xxxx xx...      4\n",
              "78310  i am not familiar with xxxx pay and did not un...      3\n",
              "78311  i have had flawless credit for yrs ive had cha...      1\n",
              "78312  roughly years ago i closed out my accounts wit...      2\n",
              "\n",
              "[21072 rows x 2 columns]"
            ]
          },
          "execution_count": 52,
          "metadata": {},
          "output_type": "execute_result"
        }
      ],
      "source": [
        "training_data"
      ]
    },
    {
      "cell_type": "markdown",
      "metadata": {
        "id": "280Vbqk-7a8M"
      },
      "source": [
        "### **Modelos supervisados sobre los datos de entrenamiento creados. En este proceso, se hizo lo siguiente:**\n",
        "* Crear los conteos de vectores usando Count Vectoriser\n",
        "* Transformar la palabra vecotr a tf-idf\n",
        "* Crear los datos de train_test_split en el tf-idf & topics"
      ]
    },
    {
      "cell_type": "code",
      "execution_count": 53,
      "metadata": {
        "colab": {
          "base_uri": "https://localhost:8080/"
        },
        "id": "oUlQpgkzJrGI",
        "outputId": "ee49a5d6-63dc-4da2-8142-29014b37f498"
      },
      "outputs": [
        {
          "name": "stdout",
          "output_type": "stream",
          "text": [
            "[[0 0 0 ... 0 0 0]\n",
            " [0 0 0 ... 0 0 0]\n",
            " [0 0 0 ... 0 0 0]\n",
            " ...\n",
            " [0 0 0 ... 0 0 0]\n",
            " [0 0 0 ... 0 0 0]\n",
            " [0 0 0 ... 0 0 0]]\n"
          ]
        }
      ],
      "source": [
        "# Crear los conteos de vectores usando Count Vectoriser\n",
        "vect = CountVectorizer()\n",
        "X_train_cnt = vect.fit_transform(training_data['complaint'])\n",
        "vectores_de_conteo = vect.transform(training_data['complaint'])\n",
        "print(vectores_de_conteo.toarray())"
      ]
    },
    {
      "cell_type": "code",
      "execution_count": 54,
      "metadata": {
        "id": "7sbVBI_EDZGM"
      },
      "outputs": [],
      "source": [
        "# Transformar la palabra vecotr a tf-idf\n",
        "tfidf_transformer = TfidfTransformer()\n",
        "#Crear los datos de train_test_split en el tf-idf & topics\n",
        "X_train_tfidf = tfidf_transformer.fit_transform(X_train_cnt)"
      ]
    },
    {
      "cell_type": "markdown",
      "metadata": {
        "id": "w0R0JOhO-eFL"
      },
      "source": [
        "# **8. Training, evaluación e inferencia de modelos**"
      ]
    },
    {
      "cell_type": "markdown",
      "metadata": {
        "id": "Qw9pP7KKTDw4"
      },
      "source": [
        "**Logistic Regression**"
      ]
    },
    {
      "cell_type": "code",
      "execution_count": 55,
      "metadata": {
        "id": "N2OznsObJrGP"
      },
      "outputs": [],
      "source": [
        "from sklearn.linear_model import LogisticRegression\n",
        "from sklearn.model_selection import train_test_split\n",
        "X_train, X_test, y_train, y_test = train_test_split(X_train_tfidf, training_data['Topic'], test_size=0.25, random_state=42)\n",
        "logreg = LogisticRegression(random_state=42, solver='liblinear').fit(X_train, y_train)"
      ]
    },
    {
      "cell_type": "code",
      "execution_count": 56,
      "metadata": {
        "colab": {
          "base_uri": "https://localhost:8080/"
        },
        "id": "e83w09wgaXIX",
        "outputId": "30bc09dd-603e-4103-8b2c-cc3b5e3888b7"
      },
      "outputs": [
        {
          "data": {
            "text/plain": [
              "0.9083143507972665"
            ]
          },
          "execution_count": 56,
          "metadata": {},
          "output_type": "execute_result"
        }
      ],
      "source": [
        "logreg.score(X_test, y_test)"
      ]
    },
    {
      "cell_type": "code",
      "execution_count": 57,
      "metadata": {
        "id": "72eOsVFsrLud"
      },
      "outputs": [],
      "source": [
        "y_pred = logreg.predict(X_test)"
      ]
    },
    {
      "cell_type": "code",
      "execution_count": 58,
      "metadata": {
        "colab": {
          "base_uri": "https://localhost:8080/"
        },
        "id": "nqPfc-whrUzt",
        "outputId": "1217bf52-0ae2-4b67-b6e3-2382da6a39a0"
      },
      "outputs": [
        {
          "data": {
            "text/plain": [
              "array([[1231,   15,   29,   10,   32],\n",
              "       [  49,  911,   18,   10,   51],\n",
              "       [  30,    9, 1208,    9,   17],\n",
              "       [  18,   29,   28,  490,   11],\n",
              "       [  54,   17,   38,    9,  945]], dtype=int64)"
            ]
          },
          "execution_count": 58,
          "metadata": {},
          "output_type": "execute_result"
        }
      ],
      "source": [
        "from sklearn.metrics import confusion_matrix, classification_report\n",
        "confusion_matrix(y_test, y_pred)"
      ]
    },
    {
      "cell_type": "code",
      "execution_count": 59,
      "metadata": {
        "colab": {
          "base_uri": "https://localhost:8080/",
          "height": 388
        },
        "id": "06Kv4hCFrdpc",
        "outputId": "3e86023c-b329-4599-fada-6bc80deb5afb"
      },
      "outputs": [
        {
          "data": {
            "image/png": "[encoded data removed]",
            "text/plain": [
              "<Figure size 432x432 with 1 Axes>"
            ]
          },
          "metadata": {
            "needs_background": "light"
          },
          "output_type": "display_data"
        }
      ],
      "source": [
        "def confusion():\n",
        "  fig, ax = plt.subplots(figsize=(6, 6))\n",
        "  ax = sns.heatmap(confusion_matrix(y_test, y_pred), annot=True, cbar=False, cmap=\"YlGnBu\", fmt = '0.0f')\n",
        "  plt.xlabel(\"Grupo observado\")\n",
        "  plt.ylabel(\"Grupo predicho\")\n",
        "  plt.show()\n",
        "  \n",
        "confusion()"
      ]
    },
    {
      "cell_type": "code",
      "execution_count": 60,
      "metadata": {
        "id": "vllt_agUryON"
      },
      "outputs": [],
      "source": [
        "topicosExtenso = [\"Servicios de Cuentas de Banco\", \"Tarjetas de Credito / Tarjetas Prepagadas\", \"Otros\", \"Reportes de Robos\", \"Ptmos Hipotecarios y Otros Ptmos\"]"
      ]
    },
    {
      "cell_type": "code",
      "execution_count": 61,
      "metadata": {
        "colab": {
          "base_uri": "https://localhost:8080/"
        },
        "id": "Lp9h3Q73rzpF",
        "outputId": "0d2be989-fb6a-4f8e-873f-7ab135d5c6bb"
      },
      "outputs": [
        {
          "name": "stdout",
          "output_type": "stream",
          "text": [
            "                                           precision    recall  f1-score   support\n",
            "\n",
            "            Servicios de Cuentas de Banco       0.89      0.93      0.91      1317\n",
            "Tarjetas de Credito / Tarjetas Prepagadas       0.93      0.88      0.90      1039\n",
            "                                    Otros       0.91      0.95      0.93      1273\n",
            "                        Reportes de Robos       0.93      0.85      0.89       576\n",
            "         Ptmos Hipotecarios y Otros Ptmos       0.89      0.89      0.89      1063\n",
            "\n",
            "                                 accuracy                           0.91      5268\n",
            "                                macro avg       0.91      0.90      0.91      5268\n",
            "                             weighted avg       0.91      0.91      0.91      5268\n",
            "\n"
          ]
        }
      ],
      "source": [
        "print(classification_report(y_test, y_pred, target_names = topicosExtenso))"
      ]
    },
    {
      "attachments": {},
      "cell_type": "markdown",
      "metadata": {},
      "source": [
        "    **Análisis del modelo**\n",
        "\n",
        "    Los valores de precisión, recuperación y puntuación F1 son bastante altos para todas las clases, lo que indica que el modelo ha tenido un buen desempeño en la clasificación de las instancias. El informe también muestra que la clase \"Otros\" tiene la mayor precisión y puntuación F1, mientras que la clase \"Reportes de Robos\" tiene la menor recuperación.\n",
        "\n",
        "    La precisión general del modelo es del 91%, lo que significa que el modelo ha clasificado correctamente el 91% de las instancias. La media ponderada y la precisión de recuperación también son del 91%, lo que indica que el modelo ha tenido un desempeño consistente en todas las clases."
      ]
    },
    {
      "cell_type": "markdown",
      "metadata": {
        "id": "qFM0rRjazO-m"
      },
      "source": [
        "**Árboles de decisión**"
      ]
    },
    {
      "cell_type": "code",
      "execution_count": 62,
      "metadata": {
        "id": "bR2Eko9EzOs1"
      },
      "outputs": [],
      "source": [
        "from sklearn.tree import DecisionTreeClassifier\n",
        "X_train, X_test, y_train, y_test = train_test_split(X_train_tfidf, training_data['Topic'], test_size=.3, random_state=0)\n",
        "dtc = DecisionTreeClassifier(random_state=42).fit(X_train, y_train)"
      ]
    },
    {
      "cell_type": "code",
      "execution_count": 63,
      "metadata": {
        "colab": {
          "base_uri": "https://localhost:8080/"
        },
        "id": "AanFrQakzdrE",
        "outputId": "98cffc83-0f54-4c9c-d574-fe831a17c86b"
      },
      "outputs": [
        {
          "data": {
            "text/plain": [
              "0.7562480227776021"
            ]
          },
          "execution_count": 63,
          "metadata": {},
          "output_type": "execute_result"
        }
      ],
      "source": [
        "dtc.score(X_test, y_test)"
      ]
    },
    {
      "cell_type": "code",
      "execution_count": 64,
      "metadata": {
        "id": "wFle7KFI0KB1"
      },
      "outputs": [],
      "source": [
        "y_pred = dtc.predict(X_test)"
      ]
    },
    {
      "cell_type": "code",
      "execution_count": 65,
      "metadata": {
        "colab": {
          "base_uri": "https://localhost:8080/"
        },
        "id": "Pix5fczQ0Kw9",
        "outputId": "f8941f4d-59d6-4264-bce5-c9412a5d8256"
      },
      "outputs": [
        {
          "data": {
            "text/plain": [
              "array([[1219,   73,   92,   49,  134],\n",
              "       [  62,  939,   28,   50,  118],\n",
              "       [ 104,   41, 1229,   46,   91],\n",
              "       [  53,   75,   54,  483,   51],\n",
              "       [ 166,  122,   93,   39,  911]], dtype=int64)"
            ]
          },
          "execution_count": 65,
          "metadata": {},
          "output_type": "execute_result"
        }
      ],
      "source": [
        "confusion_matrix(y_test, y_pred)"
      ]
    },
    {
      "cell_type": "code",
      "execution_count": 66,
      "metadata": {
        "colab": {
          "base_uri": "https://localhost:8080/",
          "height": 388
        },
        "id": "zs3afnut0PX9",
        "outputId": "a6d7d865-d421-4466-d304-7f39782137ad"
      },
      "outputs": [
        {
          "data": {
            "image/png": "[encoded data removed]",
            "text/plain": [
              "<Figure size 432x432 with 1 Axes>"
            ]
          },
          "metadata": {
            "needs_background": "light"
          },
          "output_type": "display_data"
        }
      ],
      "source": [
        "confusion()"
      ]
    },
    {
      "cell_type": "code",
      "execution_count": 67,
      "metadata": {
        "colab": {
          "base_uri": "https://localhost:8080/"
        },
        "id": "1q1I7UTS0XSl",
        "outputId": "f425de19-ac88-4cbb-831c-d5233d7e074a"
      },
      "outputs": [
        {
          "name": "stdout",
          "output_type": "stream",
          "text": [
            "                                           precision    recall  f1-score   support\n",
            "\n",
            "            Servicios de Cuentas de Banco       0.76      0.78      0.77      1567\n",
            "Tarjetas de Credito / Tarjetas Prepagadas       0.75      0.78      0.77      1197\n",
            "                                    Otros       0.82      0.81      0.82      1511\n",
            "                        Reportes de Robos       0.72      0.67      0.70       716\n",
            "         Ptmos Hipotecarios y Otros Ptmos       0.70      0.68      0.69      1331\n",
            "\n",
            "                                 accuracy                           0.76      6322\n",
            "                                macro avg       0.75      0.75      0.75      6322\n",
            "                             weighted avg       0.76      0.76      0.76      6322\n",
            "\n"
          ]
        }
      ],
      "source": [
        "print(classification_report(y_test, y_pred, target_names = topicosExtenso))"
      ]
    },
    {
      "attachments": {},
      "cell_type": "markdown",
      "metadata": {},
      "source": [
        "    **Análisis del modelo**\n",
        "\n",
        "    En este caso, los valores de precisión, recuperación y puntuación F1 son moderados para todas las clases, lo que indica que el modelo ha tenido un desempeño aceptable en la clasificación de las instancias. Sin embargo, estos valores son más bajos que los obtenidos con el modelo de regresión logística en el modelo anterior."
      ]
    },
    {
      "cell_type": "markdown",
      "metadata": {
        "id": "O7c0iZIs0aVv"
      },
      "source": [
        "**Random Forest**"
      ]
    },
    {
      "cell_type": "code",
      "execution_count": 68,
      "metadata": {
        "id": "FHcRZvUq0cTF"
      },
      "outputs": [],
      "source": [
        "from sklearn.ensemble import RandomForestClassifier\n",
        "X_train, X_test, y_train, y_test = train_test_split(X_train_tfidf, training_data['Topic'], test_size=0.3, random_state=0)\n",
        "rf = RandomForestClassifier(random_state=42).fit(X_train, y_train)"
      ]
    },
    {
      "cell_type": "code",
      "execution_count": 69,
      "metadata": {
        "colab": {
          "base_uri": "https://localhost:8080/"
        },
        "id": "5BuaD3J_0meV",
        "outputId": "1b1c8584-1192-4302-9a6f-9efc9538b310"
      },
      "outputs": [
        {
          "data": {
            "text/plain": [
              "0.8119266055045872"
            ]
          },
          "execution_count": 69,
          "metadata": {},
          "output_type": "execute_result"
        }
      ],
      "source": [
        "rf.score(X_test, y_test)"
      ]
    },
    {
      "cell_type": "code",
      "execution_count": 70,
      "metadata": {
        "id": "_oQDG_2i0xSd"
      },
      "outputs": [],
      "source": [
        "y_pred = rf.predict(X_test)"
      ]
    },
    {
      "cell_type": "code",
      "execution_count": 71,
      "metadata": {
        "colab": {
          "base_uri": "https://localhost:8080/"
        },
        "id": "O8JILf-G06D4",
        "outputId": "d6d84465-aefc-4a1d-a826-0d4a6a65a645"
      },
      "outputs": [
        {
          "name": "stdout",
          "output_type": "stream",
          "text": [
            "[[1447   30   42   13   35]\n",
            " [ 117  874   46   22  138]\n",
            " [  96   36 1341    5   33]\n",
            " [  67   61   78  494   16]\n",
            " [ 191   66   84   13  977]]\n"
          ]
        }
      ],
      "source": [
        "print(confusion_matrix(y_test, y_pred))"
      ]
    },
    {
      "cell_type": "code",
      "execution_count": 72,
      "metadata": {
        "colab": {
          "base_uri": "https://localhost:8080/",
          "height": 388
        },
        "id": "kGNdm19Z08a4",
        "outputId": "f75e3155-c166-4744-fa79-a3aa70e5c4a0"
      },
      "outputs": [
        {
          "data": {
            "image/png": "[encoded data removed]",
            "text/plain": [
              "<Figure size 432x432 with 1 Axes>"
            ]
          },
          "metadata": {
            "needs_background": "light"
          },
          "output_type": "display_data"
        }
      ],
      "source": [
        "confusion()"
      ]
    },
    {
      "cell_type": "code",
      "execution_count": 73,
      "metadata": {
        "colab": {
          "base_uri": "https://localhost:8080/"
        },
        "id": "syAGn9Aq1CHv",
        "outputId": "1652d68b-4366-4f04-a342-34314b412609"
      },
      "outputs": [
        {
          "name": "stdout",
          "output_type": "stream",
          "text": [
            "                                           precision    recall  f1-score   support\n",
            "\n",
            "            Servicios de Cuentas de Banco       0.75      0.92      0.83      1567\n",
            "Tarjetas de Credito / Tarjetas Prepagadas       0.82      0.73      0.77      1197\n",
            "                                    Otros       0.84      0.89      0.86      1511\n",
            "                        Reportes de Robos       0.90      0.69      0.78       716\n",
            "         Ptmos Hipotecarios y Otros Ptmos       0.81      0.73      0.77      1331\n",
            "\n",
            "                                 accuracy                           0.81      6322\n",
            "                                macro avg       0.83      0.79      0.80      6322\n",
            "                             weighted avg       0.82      0.81      0.81      6322\n",
            "\n"
          ]
        }
      ],
      "source": [
        "print(classification_report(y_test, y_pred, target_names = topicosExtenso))"
      ]
    },
    {
      "attachments": {},
      "cell_type": "markdown",
      "metadata": {},
      "source": [
        "    **Análisis de resultados**\n",
        "\n",
        "    En este caso, los valores de precisión, recuperación y puntuación F1 son moderados para la mayoría de las clases, con excepción de la clase \"Otros\" que presenta una alta precisión y una baja recuperación, lo que indica que el modelo ha clasificado correctamente la mayoría de las instancias para las clases \"Servicios de Cuentas de Banco\", \"Tarjetas de Crédito / Tarjetas Prepagadas\" y \"Ptmos Hipotecarios y Otros Ptmos\". La clase \"Reportes de Robos\" también presenta un desempeño aceptable en términos de precisión, recuperación y puntuación F1.\n",
        "\n",
        "    También podemos ver que la clase \"Otros\" tiene la mayor precisión, mientras que la clase \"Servicios de Cuentas de Banco\" tiene la mayor recuperación y puntuación F1.\n",
        "\n",
        "    La precisión general del modelo es del 81%, en general este resultado sugiere que el modelo de Random Forest ha tenido un desempeño aceptable en la clasificación de las instancias, pero el modelo puede mejorar su precisión y puntuación F1 utilizando otras técnicas.\n"
      ]
    },
    {
      "cell_type": "markdown",
      "metadata": {
        "id": "QMpiitioUcJR"
      },
      "source": [
        "**Naive Bayes**"
      ]
    },
    {
      "cell_type": "code",
      "execution_count": 74,
      "metadata": {
        "id": "_H51iILsUf5g"
      },
      "outputs": [],
      "source": [
        "from sklearn.naive_bayes import MultinomialNB\n",
        "X_train, X_test, y_train, y_test = train_test_split(X_train_tfidf, training_data['Topic'], test_size=0.3, random_state=0)\n",
        "nb = MultinomialNB().fit(X_train, y_train)"
      ]
    },
    {
      "cell_type": "code",
      "execution_count": 75,
      "metadata": {
        "colab": {
          "base_uri": "https://localhost:8080/"
        },
        "id": "ZWe9WO26UwIR",
        "outputId": "3fdedc73-094f-42e1-c1bc-3086d785dda1"
      },
      "outputs": [
        {
          "data": {
            "text/plain": [
              "0.6738373932299905"
            ]
          },
          "execution_count": 75,
          "metadata": {},
          "output_type": "execute_result"
        }
      ],
      "source": [
        "nb.score(X_test, y_test)"
      ]
    },
    {
      "cell_type": "code",
      "execution_count": 76,
      "metadata": {
        "id": "q1S5BKmQU1bh"
      },
      "outputs": [],
      "source": [
        "y_pred = nb.predict(X_test)"
      ]
    },
    {
      "cell_type": "code",
      "execution_count": 77,
      "metadata": {
        "colab": {
          "base_uri": "https://localhost:8080/"
        },
        "id": "y5tflX9RU5hZ",
        "outputId": "0117ad0c-3b51-4a99-b498-4f6ae0775f2a"
      },
      "outputs": [
        {
          "name": "stdout",
          "output_type": "stream",
          "text": [
            "[[1466   11   71    4   15]\n",
            " [ 391  473  172    2  159]\n",
            " [ 131    8 1362    0   10]\n",
            " [ 168   75  285  160   28]\n",
            " [ 355   27  149    1  799]]\n"
          ]
        }
      ],
      "source": [
        "print(confusion_matrix(y_test, y_pred))"
      ]
    },
    {
      "cell_type": "code",
      "execution_count": 78,
      "metadata": {
        "colab": {
          "base_uri": "https://localhost:8080/",
          "height": 388
        },
        "id": "q2-gyrmQU58y",
        "outputId": "3fda0457-7fe0-4bf3-a210-64b29611734b"
      },
      "outputs": [
        {
          "data": {
            "image/png": "[encoded data removed]",
            "text/plain": [
              "<Figure size 432x432 with 1 Axes>"
            ]
          },
          "metadata": {
            "needs_background": "light"
          },
          "output_type": "display_data"
        }
      ],
      "source": [
        "confusion()"
      ]
    },
    {
      "cell_type": "code",
      "execution_count": 79,
      "metadata": {
        "colab": {
          "base_uri": "https://localhost:8080/"
        },
        "id": "zS2rFQdHAX_r",
        "outputId": "dc49f846-4c47-4d12-b931-f27eeb549107"
      },
      "outputs": [
        {
          "name": "stdout",
          "output_type": "stream",
          "text": [
            "                                           precision    recall  f1-score   support\n",
            "\n",
            "            Servicios de Cuentas de Banco       0.58      0.94      0.72      1567\n",
            "Tarjetas de Credito / Tarjetas Prepagadas       0.80      0.40      0.53      1197\n",
            "                                    Otros       0.67      0.90      0.77      1511\n",
            "                        Reportes de Robos       0.96      0.22      0.36       716\n",
            "         Ptmos Hipotecarios y Otros Ptmos       0.79      0.60      0.68      1331\n",
            "\n",
            "                                 accuracy                           0.67      6322\n",
            "                                macro avg       0.76      0.61      0.61      6322\n",
            "                             weighted avg       0.73      0.67      0.65      6322\n",
            "\n"
          ]
        }
      ],
      "source": [
        "print(classification_report(y_test, y_pred, target_names = topicosExtenso))"
      ]
    },
    {
      "attachments": {},
      "cell_type": "markdown",
      "metadata": {},
      "source": [
        "    **Análisis de Resultados**\n",
        "\n",
        "    La precisión general del modelo es del 71%, lo que significa que el modelo ha clasificado correctamente el 71% de las instancias. La media ponderada y la precisión de recuperación también son del 71%, lo que indica que el modelo ha tenido un desempeño consistente en todas las clases."
      ]
    },
    {
      "cell_type": "markdown",
      "metadata": {
        "id": "rqGF-G4RXDL8"
      },
      "source": [
        "# **9. Conclusiones**"
      ]
    },
    {
      "attachments": {},
      "cell_type": "markdown",
      "metadata": {
        "id": "U00g70lF_MYr"
      },
      "source": [
        "Despues de la evaluación de modelospodemos concluir que el mejor clasificador para este caso es Logistic Regresion debido que tiene un score de 0.908 \n",
        "adicionalmente las caracteristicas de presición son más altas en comparación a las variaciones de los otros modelos."
      ]
    },
    {
      "cell_type": "markdown",
      "metadata": {
        "id": "ygpzSi-V_Q25"
      },
      "source": [
        "Las metricas de score y precision como se observan en los resultados obtenidos.\n",
        "\n",
        "*Logistic regression   Score=0.904\n",
        "![1.png](data:image/png;base64,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)\n"
      ]
    },
    {
      "cell_type": "markdown",
      "metadata": {
        "id": "BnpOlvy-AD8k"
      },
      "source": [
        "*Decision Tree\t\t Score=0.783\n",
        "![image.png](data:image/png;base64,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)"
      ]
    },
    {
      "cell_type": "markdown",
      "metadata": {
        "id": "-fHXr2E0AMWV"
      },
      "source": [
        "*Random Forest        Score=0.808\t\n",
        "![image.png](data:image/png;base64,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)"
      ]
    },
    {
      "attachments": {},
      "cell_type": "markdown",
      "metadata": {
        "id": "_d93VhUiAT20"
      },
      "source": [
        "*Naive Bayes         Score=0.692\n",
        "\n",
        "![image.png](data:image/png;base64,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)"
      ]
    },
    {
      "cell_type": "markdown",
      "metadata": {
        "id": "wB57RvnHAeHk"
      },
      "source": [
        "Podemos mejorar el modelo realizando hipertunning, normalizando y reduciendo la data de entrada cuando los valores vayan creciendo y así el procesamiento sea mas rapido."
      ]
    }
  ],
  "metadata": {
    "accelerator": "GPU",
    "colab": {
      "collapsed_sections": [
        "KtCqOTiI-hs2",
        "KtRLCsNVJrFt",
        "L944HZpsJrFy",
        "_7Un1AElJrF2",
        "k-I0k0QtJrGA"
      ],
      "provenance": []
    },
    "gpuClass": "standard",
    "kernelspec": {
      "display_name": "base",
      "language": "python",
      "name": "python3"
    },
    "language_info": {
      "codemirror_mode": {
        "name": "ipython",
        "version": 3
      },
      "file_extension": ".py",
      "mimetype": "text/x-python",
      "name": "python",
      "nbconvert_exporter": "python",
      "pygments_lexer": "ipython3",
      "version": "3.9.12"
    },
    "vscode": {
      "interpreter": {
        "hash": "dd2d689c6f491821d908ecd1a8f5021ebf14ee3bee68eadf5672d0c615f4e526"
      }
    }
  },
  "nbformat": 4,
  "nbformat_minor": 0
}
